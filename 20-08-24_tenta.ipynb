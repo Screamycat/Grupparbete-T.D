{
 "cells": [
  {
   "cell_type": "markdown",
   "id": "3fb38d0e",
   "metadata": {},
   "source": [
    "# Tenta 20-08-24\n",
    "## Uppgift 3"
   ]
  },
  {
   "cell_type": "code",
   "execution_count": 243,
   "id": "8b21c767",
   "metadata": {},
   "outputs": [],
   "source": [
    "from mtm026 import *"
   ]
  },
  {
   "cell_type": "code",
   "execution_count": 244,
   "id": "96e01147",
   "metadata": {},
   "outputs": [
    {
     "data": {
      "text/latex": [
       "$\\displaystyle \\sigma = \\left[ 161.538461538462, \\  -53.8461538461538, \\  -107.692307692308\\right]$"
      ],
      "text/plain": [
       "<IPython.core.display.Math object>"
      ]
     },
     "metadata": {},
     "output_type": "display_data"
    },
    {
     "data": {
      "text/latex": [
       "$\\displaystyle \\tau = \\left[ 0, \\  -80.7692307692308, \\  107.692307692308\\right]$"
      ],
      "text/plain": [
       "<IPython.core.display.Math object>"
      ]
     },
     "metadata": {},
     "output_type": "display_data"
    }
   ],
   "source": [
    "epsilon_x = 0.003\n",
    "epsilon_y = -0.001\n",
    "epsilon_z = -0.002\n",
    "gamma_xy = 0.004\n",
    "gamma_xz = -0.003\n",
    "\n",
    "E = 70e3            # MPa\n",
    "v = 0.3\n",
    "\n",
    "G = E / (2 * (1 + v))\n",
    "\n",
    "# Anta α = 0\n",
    "\n",
    "sigma_x = E / (1 + v) * (epsilon_x + v / (1- 2*v) * (epsilon_x+epsilon_y+epsilon_z))\n",
    "sigma_y = E / (1 + v) * (epsilon_y + v / (1- 2*v) * (epsilon_x+epsilon_y+epsilon_z))\n",
    "sigma_z = E / (1 + v) * (epsilon_z + v / (1- 2*v) * (epsilon_x+epsilon_y+epsilon_z))\n",
    "sigma = [sigma_x, sigma_y, sigma_z]\n",
    "\n",
    "tau_xy = G * gamma_xy\n",
    "tau_xz = G * gamma_xz\n",
    "tau = [0, tau_xz, tau_xy]\n",
    "\n",
    "displayvar('\\\\sigma', sigma)\n",
    "displayvar('\\\\tau', tau)\n",
    "\n",
    "# a, svar"
   ]
  },
  {
   "cell_type": "code",
   "execution_count": 245,
   "id": "3673c872",
   "metadata": {},
   "outputs": [
    {
     "data": {
      "text/latex": [
       "$\\displaystyle \\tau = \\left[ 170.536917518426, \\  -80.7692307692308, \\  107.692307692308\\right]$"
      ],
      "text/plain": [
       "<IPython.core.display.Math object>"
      ]
     },
     "metadata": {},
     "output_type": "display_data"
    },
    {
     "data": {
      "text/latex": [
       "$\\displaystyle \\gamma = \\left[ 0.0063342283649701, \\  -0.003, \\  0.004\\right]$"
      ],
      "text/plain": [
       "<IPython.core.display.Math object>"
      ]
     },
     "metadata": {},
     "output_type": "display_data"
    }
   ],
   "source": [
    "sigma_s = 450\n",
    "\n",
    "# Von mises: σs = sqrt(σ2 x + σ2 y + σ2 z − σxσy −σy σz −σz σx +3τ2 xy +3τ2 yz +3τ2 zx)\n",
    "\n",
    "a = sigma_s**2 -sigma_x**2 -sigma_y**2 -sigma_z**2 + sigma_x*sigma_y + sigma_y*sigma_z + sigma_z*sigma_x -3*tau_xy**2 -3*tau_xz**2\n",
    "tau_yz = np.sqrt(a/3)\n",
    "tau[0] = tau_yz\n",
    "\n",
    "gamma_yz = 1 / G * tau_yz\n",
    "gamma = [gamma_yz, gamma_xz, gamma_xy]\n",
    "\n",
    "displayvar('\\\\tau', tau)\n",
    "displayvar('\\\\gamma', gamma)\n",
    "\n",
    "# b, svar"
   ]
  },
  {
   "cell_type": "markdown",
   "id": "86fc6dca",
   "metadata": {},
   "source": [
    "## Uppgift 4"
   ]
  },
  {
   "cell_type": "code",
   "execution_count": 246,
   "id": "8fc57512",
   "metadata": {},
   "outputs": [
    {
     "data": {
      "text/latex": [
       "$\\displaystyle u_{rör}(r) = \\frac{3 a p}{2 E}$"
      ],
      "text/plain": [
       "<IPython.core.display.Math object>"
      ]
     },
     "metadata": {},
     "output_type": "display_data"
    },
    {
     "data": {
      "text/latex": [
       "$\\displaystyle u_{plugg}(r) = \\frac{a \\left(- 0.6 p + 0.4 p_{0}\\right)}{E}$"
      ],
      "text/plain": [
       "<IPython.core.display.Math object>"
      ]
     },
     "metadata": {},
     "output_type": "display_data"
    }
   ],
   "source": [
    "a, E, p0, p = sp.symbols('a, E, p0 p')\n",
    "\n",
    "v = 0.4\n",
    "v_al = 0.3\n",
    "E_al = 10*E\n",
    "h = a/15\n",
    "r = a\n",
    "\n",
    "# Röret\n",
    "sigma_r = sigma_z = tau = 0\n",
    "sigma_phi = sigma0 = p * a / (2 * h/2)\n",
    "u_pipe = 1/E_al * (sigma_phi - v_al*(sigma_r + sigma_z)) * a\n",
    "\n",
    "displayvar('u_{rör}(r)', u_pipe)\n",
    "\n",
    "# Plugg\n",
    "sigma_z = -p0\n",
    "# =>\n",
    "sigma_phi = sigma_r = A = -p\n",
    "\n",
    "u_plug = 1/E * (sigma_phi -v*(sigma_r + sigma_z))*a\n",
    "\n",
    "displayvar('u_{plugg}(r)', u_plug)"
   ]
  },
  {
   "cell_type": "code",
   "execution_count": 247,
   "id": "f4ab8ddb",
   "metadata": {},
   "outputs": [
    {
     "data": {
      "text/latex": [
       "$\\displaystyle p = \\left[ 0.19047619047619 p_{0}\\right]$"
      ],
      "text/plain": [
       "<IPython.core.display.Math object>"
      ]
     },
     "metadata": {},
     "output_type": "display_data"
    }
   ],
   "source": [
    "# u_rör(r) = u_plugg(r)\n",
    "\n",
    "p = sp.solve(u_pipe - u_plug, p)\n",
    "\n",
    "displayvar('p', p)"
   ]
  },
  {
   "cell_type": "markdown",
   "id": "fc791722",
   "metadata": {},
   "source": [
    "## Uppgift 5"
   ]
  },
  {
   "cell_type": "code",
   "execution_count": 248,
   "id": "87fa32c1",
   "metadata": {},
   "outputs": [
    {
     "name": "stdout",
     "output_type": "stream",
     "text": [
      "0.1\n",
      "1.2\n"
     ]
    },
    {
     "data": {
      "text/latex": [
       "$\\displaystyle \\sigma_{u,red} = 82653061.2244898$"
      ],
      "text/plain": [
       "<IPython.core.display.Math object>"
      ]
     },
     "metadata": {},
     "output_type": "display_data"
    },
    {
     "data": {
      "text/latex": [
       "$\\displaystyle \\sigma_{up,red} = 73469387.755102$"
      ],
      "text/plain": [
       "<IPython.core.display.Math object>"
      ]
     },
     "metadata": {},
     "output_type": "display_data"
    }
   ],
   "source": [
    "D = 36e-3           # [m]\n",
    "R_a = 10e-6         # [m]\n",
    "rho = 3e-3          # [m]\n",
    "d = 30e-3           # [m]\n",
    "\n",
    "sigma_s = 250e6     # [Pa]\n",
    "sigma_B = 490e6     # [Pa]\n",
    "sigma_u = 180e6     # [Pa]\n",
    "sigma_up = 160e6    # [Pa]\n",
    "\n",
    "print(rho/d)\n",
    "print(D/d)\n",
    "\n",
    "lamda = 1\n",
    "K_d = 1\n",
    "K_t = 2.2\n",
    "K_r = 1/ 0.9\n",
    "K_f = 1 + 0.8*(K_t -1)\n",
    "\n",
    "def red(sigma):\n",
    "    return lamda / (K_d*K_r*K_f) * sigma\n",
    "\n",
    "sigma_u_red = red(sigma_u)\n",
    "sigma_up_red = red(sigma_up)\n",
    "\n",
    "displayvar('\\sigma_{u,red}', sigma_u_red)\n",
    "displayvar('\\sigma_{up,red}', sigma_up_red)"
   ]
  },
  {
   "cell_type": "code",
   "execution_count": 249,
   "id": "c0dcc665",
   "metadata": {},
   "outputs": [
    {
     "name": "stdout",
     "output_type": "stream",
     "text": [
      "[  0. 160. 250.]\n",
      "[82.65306122 73.46938776  0.        ]\n"
     ]
    },
    {
     "data": {
      "image/png": "[encoded data removed]",
      "text/plain": [
       "<Figure size 640x480 with 1 Axes>"
      ]
     },
     "metadata": {},
     "output_type": "display_data"
    }
   ],
   "source": [
    "import matplotlib.pyplot as plt\n",
    "\n",
    "x = np.array([0, 160e6, sigma_s])\n",
    "y = np.array([sigma_u_red, sigma_up_red, 0])\n",
    "\n",
    "x *= 10**-6\n",
    "y *= 10**-6\n",
    "\n",
    "print(x)\n",
    "print(y)\n",
    "\n",
    "plt.plot(x, y, color='red')\n",
    "plt.xlim(0, sigma_s*10**-6)\n",
    "plt.ylim(0, 100)\n",
    "plt.show()"
   ]
  }
 ],
 "metadata": {
  "kernelspec": {
   "display_name": "Python 3",
   "language": "python",
   "name": "python3"
  },
  "language_info": {
   "codemirror_mode": {
    "name": "ipython",
    "version": 3
   },
   "file_extension": ".py",
   "mimetype": "text/x-python",
   "name": "python",
   "nbconvert_exporter": "python",
   "pygments_lexer": "ipython3",
   "version": "3.11.9"
  }
 },
 "nbformat": 4,
 "nbformat_minor": 5
}
