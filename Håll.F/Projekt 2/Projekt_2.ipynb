{
 "cells": [
  {
   "cell_type": "code",
   "execution_count": 2,
   "id": "d131f962",
   "metadata": {},
   "outputs": [],
   "source": [
    "from mtm026 import *\n",
    "\n",
    "P0 = 1          #[N]\n",
    "L1 = 5          #[m]\n",
    "L2 = 4.5        #[m]\n",
    "a = 0.05        #[m]\n",
    "t = 0.002       #[m]\n",
    "E = 200e9       #[Pa]\n",
    "v = 0.3\n",
    "\n",
    "I_1 = 4.7366e-7\n",
    "I_2 = 1.4771e-6"
   ]
  },
  {
   "cell_type": "code",
   "execution_count": 3,
   "id": "b3a773ab",
   "metadata": {},
   "outputs": [
    {
     "ename": "NameError",
     "evalue": "name 'ke3' is not defined",
     "output_type": "error",
     "traceback": [
      "\u001b[1;31m---------------------------------------------------------------------------\u001b[0m",
      "\u001b[1;31mNameError\u001b[0m                                 Traceback (most recent call last)",
      "Cell \u001b[1;32mIn[3], line 27\u001b[0m\n\u001b[0;32m     25\u001b[0m assem(K, ke1, dofs\u001b[38;5;241m=\u001b[39mke1_dofs)\n\u001b[0;32m     26\u001b[0m assem(K, ke2, dofs\u001b[38;5;241m=\u001b[39mke2_dofs)\n\u001b[1;32m---> 27\u001b[0m assem(K, \u001b[43mke3\u001b[49m, dofs\u001b[38;5;241m=\u001b[39mke3_dofs)\n\u001b[0;32m     28\u001b[0m assem(K, ke4, dofs\u001b[38;5;241m=\u001b[39mke4_dofs)\n\u001b[0;32m     29\u001b[0m assem(K, ke5, dofs\u001b[38;5;241m=\u001b[39mke5_dofs)\n",
      "\u001b[1;31mNameError\u001b[0m: name 'ke3' is not defined"
     ]
    }
   ],
   "source": [
    "K = np.zeros([12,12])\n",
    "K_sig = np.zeros([12,12])\n",
    "\n",
    "ke1 = Ke_balk(E*I_2, L2)\n",
    "ke2 = Ke_balk(E*I_2, L2)\n",
    "# ke3 = Ke_balk(E*I_2, L2)\n",
    "# ke4 = Ke_balk(E*I_2, L2)\n",
    "ke5 = Ke_balk(E*I_1, L1)\n",
    "ke6 = Ke_balk(E*I_1, L1)\n",
    "\n",
    "ke1_sig = Ke_sigma_balk(P0, L2)\n",
    "ke2_sig = Ke_sigma_balk(P0, L2)\n",
    "# ke4_sig = Ke_sigma_balk(0, L2)\n",
    "# ke3_sig = Ke_sigma_balk(0, L2)\n",
    "ke5_sig = Ke_sigma_balk(0, L1)\n",
    "ke6_sig = Ke_sigma_balk(0, L1)\n",
    "\n",
    "ke1_dofs = [1, 2, 3, 4] \n",
    "ke2_dofs = [3, 4, 5, 6]\n",
    "# ke3_dofs = [7, 8, 5, 9]\n",
    "# ke4_dofs = [5, 9, 11, 12]\n",
    "ke5_dofs = [3, 4, 9, 10]\n",
    "ke6_dofs = [5, 6, 11, 12]\n",
    "\n",
    "assem(K, ke1, dofs=ke1_dofs)\n",
    "assem(K, ke2, dofs=ke2_dofs)\n",
    "assem(K, ke3, dofs=ke3_dofs)\n",
    "assem(K, ke4, dofs=ke4_dofs)\n",
    "assem(K, ke5, dofs=ke5_dofs)\n",
    "assem(K, ke6, dofs=ke6_dofs)\n",
    "\n",
    "assem(K_sig, ke1_sig, dofs=ke1_dofs)\n",
    "assem(K_sig, ke2_sig, dofs=ke2_dofs)\n",
    "assem(K_sig, ke3_sig, dofs=ke3_dofs)\n",
    "assem(K_sig, ke4_sig, dofs=ke4_dofs)\n",
    "assem(K_sig, ke5_sig, dofs=ke5_dofs)\n",
    "assem(K_sig, ke6_sig, dofs=ke6_dofs)\n",
    "\n",
    "displayvar(\"K\", K)\n",
    "displayvar(\"K_\\sigma\", K_sig)"
   ]
  },
  {
   "cell_type": "code",
   "execution_count": null,
   "id": "e55c39ee",
   "metadata": {},
   "outputs": [],
   "source": [
    "# Definiera våra fria frihetsgrader\n",
    "free_dofs = [3,4,5,6,7,8,10,12]\n",
    "\n",
    "# Reducera till enbart fria frihetsgrader\n",
    "K_red = extract_block(K, free_dofs, free_dofs)\n",
    "K_sigma_red = extract_block(K_sig, free_dofs, free_dofs)"
   ]
  },
  {
   "cell_type": "code",
   "execution_count": null,
   "id": "4713534a",
   "metadata": {},
   "outputs": [
    {
     "name": "stdout",
     "output_type": "stream",
     "text": [
      "α = [824864.3429397 +0.j 342162.25321946+0.j  99049.74075694+0.j\n",
      " 159125.35301355+0.j             inf+0.j             inf+0.j\n",
      "             inf+0.j             inf+0.j]\n",
      "Kristisk last P_kr = (824864.3429396952+0j)\n"
     ]
    }
   ],
   "source": [
    "# Lös egenvärdesproblemet (K - α K_σ)n = 0\n",
    "# Behöver inte skriva om till ett vanligt egenvärdesproblem för det finns lösare för det \n",
    "# generaliserade egenvärdesproblemet \n",
    "\n",
    "alpha, knäckningsmoder = eig(K_red, K_sigma_red) # => egenvektorer & egenvärden \n",
    "# vill man enbart ha realdelen till α kan man skriva α.real \n",
    "\n",
    "# Skriv ut lastmultiplikatorerna \n",
    "print(f\"α = {alpha}\")\n",
    "print(f\"Kristisk last P_kr = {alpha[0]*P0}\")"
   ]
  },
  {
   "cell_type": "code",
   "execution_count": null,
   "id": "478e0aec",
   "metadata": {},
   "outputs": [
    {
     "name": "stdout",
     "output_type": "stream",
     "text": [
      "Lastmultiplikator α = -595908.4069606627\n",
      "Kritisk last P_kr = -595908.4069606627 N\n",
      "Knäckningsmod (egenvektor): [-0.07264882  0.13307473 -0.52345841 -0.37956125 -0.6992176  -0.26463668]\n"
     ]
    }
   ],
   "source": [
    "import numpy as np\n",
    "from scipy.linalg import eig\n",
    "\n",
    "# Initialisera globala matriser (12 DOFs totalt)\n",
    "K = np.zeros([12, 12])\n",
    "K_sig = np.zeros([12, 12])\n",
    "\n",
    "# Elementmatriser\n",
    "ke1 = Ke_balk(E * I_1, L1)  # Balk 1: A till C (vertikal)\n",
    "ke2 = Ke_balk(E * I_1, L1)  # Balk 2: B till D (vertikal)\n",
    "ke3 = Ke_balk(E * I_2, L2)  # Balk 3: C till D (horisontell)\n",
    "ke4 = Ke_balk(E * I_2, L2)  # Balk 4: A till B (horisontell)\n",
    "\n",
    "ke1_sig = Ke_sigma_balk(P0, L1)\n",
    "ke2_sig = Ke_sigma_balk(P0, L1)\n",
    "ke3_sig = Ke_sigma_balk(0, L2)  # Ingen axiell last\n",
    "ke4_sig = Ke_sigma_balk(0, L2)  # Ingen axiell last\n",
    "\n",
    "# DOF-tilldelning (justerade för att matcha fria DOFs)\n",
    "ke1_dofs = [2, 3, 8, 9]    # v_A, theta_A, v_C, theta_C\n",
    "ke2_dofs = [5, 6, 11, 12]  # v_B, theta_B, v_D, theta_D\n",
    "ke3_dofs = [8, 9, 11, 12]  # v_C, theta_C, v_D, theta_D\n",
    "ke4_dofs = [2, 3, 5, 6]    # v_A, theta_A, v_B, theta_B\n",
    "\n",
    "# Assemblera\n",
    "assem(K, ke1, dofs=ke1_dofs)\n",
    "assem(K, ke2, dofs=ke2_dofs)\n",
    "assem(K, ke3, dofs=ke3_dofs)\n",
    "assem(K, ke4, dofs=ke4_dofs)\n",
    "\n",
    "assem(K_sig, ke1_sig, dofs=ke1_dofs)\n",
    "assem(K_sig, ke2_sig, dofs=ke2_dofs)\n",
    "assem(K_sig, ke3_sig, dofs=ke3_dofs)\n",
    "assem(K_sig, ke4_sig, dofs=ke4_dofs)\n",
    "\n",
    "# Definiera fria DOFs (efter upplagsvillkor och axialdeformationer)\n",
    "free_dofs = [3, 6, 8, 9, 11, 12]  # theta_A, theta_B, v_C, theta_C, v_D, theta_D\n",
    "\n",
    "# Reducera matriser\n",
    "K_red = K[np.ix_([i-1 for i in free_dofs], [i-1 for i in free_dofs])]\n",
    "K_sigma_red = K_sig[np.ix_([i-1 for i in free_dofs], [i-1 for i in free_dofs])]\n",
    "\n",
    "# Lös egenvärdesproblemet\n",
    "alpha, knäckningsmoder = eig(K_red, -K_sigma_red)  # Notera minustecknet för standardform\n",
    "\n",
    "# Ta realdelen av egenvärden (numeriska fel kan ge små imaginära delar)\n",
    "alpha = np.real(alpha)\n",
    "alpha = np.sort(alpha)  # Sortera för att få lägsta värdet först\n",
    "\n",
    "# Beräkna kritisk last\n",
    "P_kr = alpha[0] * P0\n",
    "\n",
    "print(f\"Lastmultiplikator α = {alpha[0]}\")\n",
    "print(f\"Kritisk last P_kr = {P_kr} N\")\n",
    "\n",
    "# Knäckningsmod (första egenvektorn)\n",
    "knäckningsmod = knäckningsmoder[:, np.argmin(np.abs(alpha))]\n",
    "print(f\"Knäckningsmod (egenvektor): {knäckningsmod}\")"
   ]
  }
 ],
 "metadata": {
  "kernelspec": {
   "display_name": "Python 3",
   "language": "python",
   "name": "python3"
  },
  "language_info": {
   "codemirror_mode": {
    "name": "ipython",
    "version": 3
   },
   "file_extension": ".py",
   "mimetype": "text/x-python",
   "name": "python",
   "nbconvert_exporter": "python",
   "pygments_lexer": "ipython3",
   "version": "3.11.9"
  }
 },
 "nbformat": 4,
 "nbformat_minor": 5
}
