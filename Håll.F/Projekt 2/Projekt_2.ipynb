{
 "cells": [
  {
   "cell_type": "code",
   "execution_count": 209,
   "id": "d131f962",
   "metadata": {},
   "outputs": [],
   "source": [
    "from mtm026 import *\n",
    "\n",
    "P0 = 1          #[N]\n",
    "L1 = 5          #[m]\n",
    "L2 = 4.5        #[m]\n",
    "a = 0.05        #[m]\n",
    "t = 0.002       #[m]\n",
    "E = 200e9       #[Pa]\n",
    "v = 0.3\n",
    "\n",
    "I_1 = 4.7366e-7\n",
    "I_2 = 1.4771e-6"
   ]
  },
  {
   "cell_type": "code",
   "execution_count": null,
   "id": "b3a773ab",
   "metadata": {},
   "outputs": [
    {
     "data": {
      "text/latex": [
       "$\\displaystyle K = \\left[\\begin{array}{cccccccccccccccc}38903.0452674897 & 87531.8518518519 & -38903.0452674897 & 87531.8518518519 & 0.0 & 0.0 & 0.0 & 0.0 & 0.0 & 0.0 & 0.0 & 0.0 & 0.0 & 0.0 & 0.0 & 0.0\\\\87531.8518518519 & 262595.555555556 & -87531.8518518519 & 131297.777777778 & 0.0 & 0.0 & 0.0 & 0.0 & 0.0 & 0.0 & 0.0 & 0.0 & 0.0 & 0.0 & 0.0 & 0.0\\\\-38903.0452674897 & -87531.8518518519 & 86900.3625349794 & 22735.68 & -38903.0452674897 & 87531.8518518519 & 0.0 & 0.0 & -9094.272 & 22735.68 & 0.0 & 0.0 & 0.0 & 0.0 & 0.0 & 0.0\\\\87531.8518518519 & 131297.777777778 & 22735.68 & 600976.711111111 & -87531.8518518519 & 131297.777777778 & 0.0 & 0.0 & -22735.68 & 37892.8 & 0.0 & 0.0 & 0.0 & 0.0 & 0.0 & 0.0\\\\0.0 & 0.0 & -38903.0452674897 & -87531.8518518519 & 47997.3172674897 & -64796.1718518519 & 0.0 & 0.0 & 0.0 & 0.0 & -9094.272 & 22735.68 & 0.0 & 0.0 & 0.0 & 0.0\\\\0.0 & 0.0 & 87531.8518518519 & 131297.777777778 & -64796.1718518519 & 338381.155555556 & 0.0 & 0.0 & 0.0 & 0.0 & -22735.68 & 37892.8 & 0.0 & 0.0 & 0.0 & 0.0\\\\0.0 & 0.0 & 0.0 & 0.0 & 0.0 & 0.0 & 38903.0452674897 & 87531.8518518519 & -38903.0452674897 & 87531.8518518519 & 0.0 & 0.0 & 0.0 & 0.0 & 0.0 & 0.0\\\\0.0 & 0.0 & 0.0 & 0.0 & 0.0 & 0.0 & 87531.8518518519 & 262595.555555556 & -87531.8518518519 & 131297.777777778 & 0.0 & 0.0 & 0.0 & 0.0 & 0.0 & 0.0\\\\0.0 & 0.0 & -9094.272 & -22735.68 & 0.0 & 0.0 & -38903.0452674897 & -87531.8518518519 & 86900.3625349794 & -22735.68 & -38903.0452674897 & 87531.8518518519 & 0.0 & 0.0 & 0.0 & 0.0\\\\0.0 & 0.0 & 22735.68 & 37892.8 & 0.0 & 0.0 & 87531.8518518519 & 131297.777777778 & -22735.68 & 600976.711111111 & -87531.8518518519 & 131297.777777778 & 0.0 & 0.0 & 0.0 & 0.0\\\\0.0 & 0.0 & 0.0 & 0.0 & -9094.272 & -22735.68 & 0.0 & 0.0 & -38903.0452674897 & -87531.8518518519 & 47997.3172674897 & -110267.531851852 & 0.0 & 0.0 & 0.0 & 0.0\\\\0.0 & 0.0 & 0.0 & 0.0 & 22735.68 & 37892.8 & 0.0 & 0.0 & 87531.8518518519 & 131297.777777778 & -110267.531851852 & 338381.155555556 & 0.0 & 0.0 & 0.0 & 0.0\\\\0.0 & 0.0 & 0.0 & 0.0 & 0.0 & 0.0 & 0.0 & 0.0 & 0.0 & 0.0 & 0.0 & 0.0 & 0.0 & 0.0 & 0.0 & 0.0\\\\0.0 & 0.0 & 0.0 & 0.0 & 0.0 & 0.0 & 0.0 & 0.0 & 0.0 & 0.0 & 0.0 & 0.0 & 0.0 & 0.0 & 0.0 & 0.0\\\\0.0 & 0.0 & 0.0 & 0.0 & 0.0 & 0.0 & 0.0 & 0.0 & 0.0 & 0.0 & 0.0 & 0.0 & 0.0 & 0.0 & 0.0 & 0.0\\\\0.0 & 0.0 & 0.0 & 0.0 & 0.0 & 0.0 & 0.0 & 0.0 & 0.0 & 0.0 & 0.0 & 0.0 & 0.0 & 0.0 & 0.0 & 0.0\\end{array}\\right]$"
      ],
      "text/plain": [
       "<IPython.core.display.Math object>"
      ]
     },
     "metadata": {},
     "output_type": "display_data"
    },
    {
     "data": {
      "text/latex": [
       "$\\displaystyle K_\\sigma = \\left[\\begin{array}{cccccccccccccccc}0.266666666666667 & 0.1 & -0.266666666666667 & 0.1 & 0.0 & 0.0 & 0.0 & 0.0 & 0.0 & 0.0 & 0.0 & 0.0 & 0.0 & 0.0 & 0.0 & 0.0\\\\0.1 & 0.6 & -0.1 & -0.15 & 0.0 & 0.0 & 0.0 & 0.0 & 0.0 & 0.0 & 0.0 & 0.0 & 0.0 & 0.0 & 0.0 & 0.0\\\\-0.266666666666667 & -0.1 & 0.773333333333333 & 0.1 & -0.266666666666667 & 0.1 & 0.0 & 0.0 & -0.24 & 0.1 & 0.0 & 0.0 & 0.0 & 0.0 & 0.0 & 0.0\\\\0.1 & -0.15 & 0.1 & 1.86666666666667 & -0.1 & -0.15 & 0.0 & 0.0 & -0.1 & -0.166666666666667 & 0.0 & 0.0 & 0.0 & 0.0 & 0.0 & 0.0\\\\0.0 & 0.0 & -0.266666666666667 & -0.1 & 0.506666666666667 & 0.0 & 0.0 & 0.0 & 0.0 & 0.0 & -0.24 & 0.1 & 0.0 & 0.0 & 0.0 & 0.0\\\\0.0 & 0.0 & 0.1 & -0.15 & 0.0 & 1.26666666666667 & 0.0 & 0.0 & 0.0 & 0.0 & -0.1 & -0.166666666666667 & 0.0 & 0.0 & 0.0 & 0.0\\\\0.0 & 0.0 & 0.0 & 0.0 & 0.0 & 0.0 & 0.266666666666667 & 0.1 & -0.266666666666667 & 0.1 & 0.0 & 0.0 & 0.0 & 0.0 & 0.0 & 0.0\\\\0.0 & 0.0 & 0.0 & 0.0 & 0.0 & 0.0 & 0.1 & 0.6 & -0.1 & -0.15 & 0.0 & 0.0 & 0.0 & 0.0 & 0.0 & 0.0\\\\0.0 & 0.0 & -0.24 & -0.1 & 0.0 & 0.0 & -0.266666666666667 & -0.1 & 0.773333333333333 & -0.1 & -0.266666666666667 & 0.1 & 0.0 & 0.0 & 0.0 & 0.0\\\\0.0 & 0.0 & 0.1 & -0.166666666666667 & 0.0 & 0.0 & 0.1 & -0.15 & -0.1 & 1.86666666666667 & -0.1 & -0.15 & 0.0 & 0.0 & 0.0 & 0.0\\\\0.0 & 0.0 & 0.0 & 0.0 & -0.24 & -0.1 & 0.0 & 0.0 & -0.266666666666667 & -0.1 & 0.506666666666667 & -0.2 & 0.0 & 0.0 & 0.0 & 0.0\\\\0.0 & 0.0 & 0.0 & 0.0 & 0.1 & -0.166666666666667 & 0.0 & 0.0 & 0.1 & -0.15 & -0.2 & 1.26666666666667 & 0.0 & 0.0 & 0.0 & 0.0\\\\0.0 & 0.0 & 0.0 & 0.0 & 0.0 & 0.0 & 0.0 & 0.0 & 0.0 & 0.0 & 0.0 & 0.0 & 0.0 & 0.0 & 0.0 & 0.0\\\\0.0 & 0.0 & 0.0 & 0.0 & 0.0 & 0.0 & 0.0 & 0.0 & 0.0 & 0.0 & 0.0 & 0.0 & 0.0 & 0.0 & 0.0 & 0.0\\\\0.0 & 0.0 & 0.0 & 0.0 & 0.0 & 0.0 & 0.0 & 0.0 & 0.0 & 0.0 & 0.0 & 0.0 & 0.0 & 0.0 & 0.0 & 0.0\\\\0.0 & 0.0 & 0.0 & 0.0 & 0.0 & 0.0 & 0.0 & 0.0 & 0.0 & 0.0 & 0.0 & 0.0 & 0.0 & 0.0 & 0.0 & 0.0\\end{array}\\right]$"
      ],
      "text/plain": [
       "<IPython.core.display.Math object>"
      ]
     },
     "metadata": {},
     "output_type": "display_data"
    }
   ],
   "source": [
    "K = np.zeros([16, 16])\n",
    "K_sig = np.zeros([16, 16])\n",
    "\n",
    "ke1 = Ke_balk(E*I_2, L2)\n",
    "ke2 = Ke_balk(E*I_2, L2)\n",
    "ke3 = Ke_balk(E*I_2, L2)\n",
    "ke4 = Ke_balk(E*I_2, L2)\n",
    "ke5 = Ke_balk(E*I_1, L1)\n",
    "ke6 = Ke_balk(E*I_1, L1)\n",
    "\n",
    "ke1_sig = Ke_sigma_balk(P0, L2)\n",
    "ke2_sig = Ke_sigma_balk(P0, L2)\n",
    "ke4_sig = Ke_sigma_balk(P0, L2)\n",
    "ke3_sig = Ke_sigma_balk(P0, L2)\n",
    "ke5_sig = Ke_sigma_balk(P0, L1)\n",
    "ke6_sig = Ke_sigma_balk(P0, L1)\n",
    "\n",
    "assem(K, ke1, dofs=[1,2,3,4])\n",
    "assem(K, ke2, dofs=[3,4,5,6])\n",
    "assem(K, ke3, dofs=[7,8,9,10])\n",
    "assem(K, ke4, dofs=[9,10,11,12])\n",
    "assem(K, ke5, dofs=[3,4,9,10])\n",
    "assem(K, ke6, dofs=[5,6,11,12])\n",
    "\n",
    "# assem(K_sig, ke1_sig, dofs=[1,2,3,4])\n",
    "# assem(K_sig, ke2_sig, dofs=[3,4,5,6])\n",
    "# assem(K_sig, ke3_sig, dofs=[7,8,9,10])\n",
    "# assem(K_sig, ke4_sig, dofs=[9,10,11,12])\n",
    "# assem(K_sig, ke5_sig, dofs=[3,4,9,10])\n",
    "# assem(K_sig, ke6_sig, dofs=[5,6,11,12])\n",
    "\n",
    "displayvar(\"K\", K)\n",
    "displayvar(\"K_\\sigma\", K_sig)"
   ]
  },
  {
   "cell_type": "code",
   "execution_count": 211,
   "id": "e55c39ee",
   "metadata": {},
   "outputs": [],
   "source": [
    "# Definiera våra fria frihetsgrader\n",
    "free_dofs = [3,4,5,6,7,8,10,12]\n",
    "\n",
    "# Reducera till enbart fria frihetsgrader\n",
    "K_red = extract_block(K, free_dofs, free_dofs)\n",
    "K_sigma_red = extract_block(K_sig, free_dofs, free_dofs)"
   ]
  },
  {
   "cell_type": "code",
   "execution_count": 212,
   "id": "4713534a",
   "metadata": {},
   "outputs": [
    {
     "name": "stdout",
     "output_type": "stream",
     "text": [
      "α = [660767.70873095+0.j 472275.08595468+0.j 314577.76192549+0.j\n",
      " 226479.08381021+0.j 147745.76799703+0.j  70590.26236611+0.j\n",
      "  22155.51962757+0.j  42226.95129288+0.j]\n",
      "Kristisk last P_kr = (660767.708730946+0j) EI/L^2\n"
     ]
    }
   ],
   "source": [
    "# Lös egenvärdesproblemet (K - α K_σ)n = 0\n",
    "# Behöver inte skriva om till ett vanligt egenvärdesproblem för det finns lösare för det \n",
    "# generaliserade egenvärdesproblemet \n",
    "\n",
    "alpha, knäckningsmoder = eig(K_red, K_sigma_red) # => egenvektorer & egenvärden \n",
    "# vill man enbart ha realdelen till α kan man skriva α.real \n",
    "\n",
    "# Skriv ut lastmultiplikatorerna \n",
    "print(f\"α = {alpha}\")\n",
    "print(f\"Kristisk last P_kr = {alpha[0]*P0} EI/L^2\")"
   ]
  },
  {
   "cell_type": "code",
   "execution_count": 214,
   "id": "e4a23fb0",
   "metadata": {},
   "outputs": [
    {
     "name": "stdout",
     "output_type": "stream",
     "text": [
      "Lägsta kritiska lastmultiplikator α = 14260.8613\n",
      "Kritisk last P_kr = 14260.86 N\n"
     ]
    }
   ],
   "source": [
    "import numpy as np\n",
    "from mtm026 import *\n",
    "from scipy.linalg import eig\n",
    "\n",
    "# Parametrar\n",
    "P0 = 1          # [N]\n",
    "L1 = 5.0        # [m] - horisontella\n",
    "L2 = 4.5        # [m] - vertikala\n",
    "a = 0.05        # [m]\n",
    "t = 0.002       # [m]\n",
    "E = 200e9       # [Pa]\n",
    "\n",
    "# Tröghetsmoment\n",
    "I_1 = 4.7366e-7  # horisontella\n",
    "I_2 = 1.4771e-6  # vertikala\n",
    "\n",
    "# Initiera globala matriser (16x16 p.g.a. 8 noder × 2 DOFs)\n",
    "K = np.zeros((16, 16))\n",
    "K_sigma = np.zeros((16, 16))\n",
    "\n",
    "# Skapa elementstyvhetsmatriser\n",
    "ke = [\n",
    "    Ke_balk(E*I_2, L2),  # e1\n",
    "    Ke_balk(E*I_2, L2),  # e2\n",
    "    Ke_balk(E*I_2, L2),  # e3\n",
    "    Ke_balk(E*I_2, L2),  # e4\n",
    "    Ke_balk(E*I_1, L1),  # e5\n",
    "    Ke_balk(E*I_1, L1),  # e6\n",
    "]\n",
    "\n",
    "ke_sigma = [\n",
    "    Ke_sigma_balk(P0, L2),  # e1\n",
    "    Ke_sigma_balk(P0, L2),  # e2\n",
    "    Ke_sigma_balk(P0, L2),  # e3\n",
    "    Ke_sigma_balk(P0, L2),  # e4\n",
    "    Ke_sigma_balk(0, L1),   # e5\n",
    "    Ke_sigma_balk(0, L1),   # e6\n",
    "]\n",
    "\n",
    "# Assemblering enligt figur 1.2 i uppgiften (med rätt dofs-index)\n",
    "assem(K, ke[0], dofs=[1,2,3,4])    # e1\n",
    "assem(K, ke[1], dofs=[3,4,5,6])    # e2\n",
    "assem(K, ke[2], dofs=[7,8,9,10])   # e3\n",
    "assem(K, ke[3], dofs=[9,10,11,12]) # e4\n",
    "assem(K, ke[4], dofs=[3,4,9,10])   # e5\n",
    "assem(K, ke[5], dofs=[5,6,11,12])  # e6\n",
    "\n",
    "assem(K_sigma, ke_sigma[0], dofs=[1,2,3,4])    # e1\n",
    "assem(K_sigma, ke_sigma[1], dofs=[3,4,5,6])    # e2\n",
    "assem(K_sigma, ke_sigma[2], dofs=[7,8,9,10])   # e3\n",
    "assem(K_sigma, ke_sigma[3], dofs=[9,10,11,12]) # e4\n",
    "assem(K_sigma, ke_sigma[4], dofs=[3,4,9,10])   # e5\n",
    "assem(K_sigma, ke_sigma[5], dofs=[5,6,11,12])  # e6\n",
    "\n",
    "# Reducera till frihetsgrader (endast v och φ i noder 1,2,4,5)\n",
    "free_dofs = [1,2,3,4,7,8,9,10]  # 0-indexerade (Python)\n",
    "\n",
    "K_red = K[np.ix_(free_dofs, free_dofs)]\n",
    "K_sigma_red = K_sigma[np.ix_(free_dofs, free_dofs)]\n",
    "\n",
    "# Lös egenvärdesproblem\n",
    "alpha, vecs = eig(K_red, K_sigma_red)\n",
    "alpha_real = np.real(alpha)\n",
    "alpha_pos = alpha_real[alpha_real > 0]\n",
    "alpha_kr = np.min(alpha_pos)\n",
    "\n",
    "# Kritisk last\n",
    "P_kr = alpha_kr * P0\n",
    "\n",
    "# Skriv ut resultat\n",
    "print(f\"Lägsta kritiska lastmultiplikator α = {alpha_kr:.4f}\")\n",
    "print(f\"Kritisk last P_kr = {P_kr:.2f} N\")\n"
   ]
  }
 ],
 "metadata": {
  "kernelspec": {
   "display_name": "Python 3",
   "language": "python",
   "name": "python3"
  },
  "language_info": {
   "codemirror_mode": {
    "name": "ipython",
    "version": 3
   },
   "file_extension": ".py",
   "mimetype": "text/x-python",
   "name": "python",
   "nbconvert_exporter": "python",
   "pygments_lexer": "ipython3",
   "version": "3.11.9"
  }
 },
 "nbformat": 4,
 "nbformat_minor": 5
}
