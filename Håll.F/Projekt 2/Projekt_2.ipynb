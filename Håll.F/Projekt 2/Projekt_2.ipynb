{
 "cells": [
  {
   "cell_type": "code",
   "execution_count": 1,
   "id": "d131f962",
   "metadata": {},
   "outputs": [],
   "source": [
    "from mtm026 import *\n",
    "\n",
    "P0 = 1          #[N]\n",
    "L1 = 5          #[m]\n",
    "L2 = 4.5        #[m]\n",
    "a = 0.05        #[m]\n",
    "t = 0.002       #[m]\n",
    "E = 200e9       #[Pa]\n",
    "v = 0.3\n",
    "\n",
    "I_1 = 4.7366e-7\n",
    "I_2 = 1.4771e-6"
   ]
  },
  {
   "cell_type": "code",
   "execution_count": 2,
   "id": "b3a773ab",
   "metadata": {},
   "outputs": [
    {
     "data": {
      "text/latex": [
       "$\\displaystyle K = \\left[\\begin{array}{cccccccccccccccc}38903.0452674897 & 87531.8518518519 & -38903.0452674897 & 87531.8518518519 & 0.0 & 0.0 & 0.0 & 0.0 & 0.0 & 0.0 & 0.0 & 0.0 & 0.0 & 0.0 & 0.0 & 0.0\\\\87531.8518518519 & 262595.555555556 & -87531.8518518519 & 131297.777777778 & 0.0 & 0.0 & 0.0 & 0.0 & 0.0 & 0.0 & 0.0 & 0.0 & 0.0 & 0.0 & 0.0 & 0.0\\\\-38903.0452674897 & -87531.8518518519 & 86900.3625349794 & 22735.68 & -38903.0452674897 & 87531.8518518519 & 0.0 & 0.0 & -9094.272 & 22735.68 & 0.0 & 0.0 & 0.0 & 0.0 & 0.0 & 0.0\\\\87531.8518518519 & 131297.777777778 & 22735.68 & 600976.711111111 & -87531.8518518519 & 131297.777777778 & 0.0 & 0.0 & -22735.68 & 37892.8 & 0.0 & 0.0 & 0.0 & 0.0 & 0.0 & 0.0\\\\0.0 & 0.0 & -38903.0452674897 & -87531.8518518519 & 47997.3172674897 & -64796.1718518519 & 0.0 & 0.0 & 0.0 & 0.0 & -9094.272 & 22735.68 & 0.0 & 0.0 & 0.0 & 0.0\\\\0.0 & 0.0 & 87531.8518518519 & 131297.777777778 & -64796.1718518519 & 338381.155555556 & 0.0 & 0.0 & 0.0 & 0.0 & -22735.68 & 37892.8 & 0.0 & 0.0 & 0.0 & 0.0\\\\0.0 & 0.0 & 0.0 & 0.0 & 0.0 & 0.0 & 38903.0452674897 & 87531.8518518519 & -38903.0452674897 & 87531.8518518519 & 0.0 & 0.0 & 0.0 & 0.0 & 0.0 & 0.0\\\\0.0 & 0.0 & 0.0 & 0.0 & 0.0 & 0.0 & 87531.8518518519 & 262595.555555556 & -87531.8518518519 & 131297.777777778 & 0.0 & 0.0 & 0.0 & 0.0 & 0.0 & 0.0\\\\0.0 & 0.0 & -9094.272 & -22735.68 & 0.0 & 0.0 & -38903.0452674897 & -87531.8518518519 & 86900.3625349794 & -22735.68 & -38903.0452674897 & 87531.8518518519 & 0.0 & 0.0 & 0.0 & 0.0\\\\0.0 & 0.0 & 22735.68 & 37892.8 & 0.0 & 0.0 & 87531.8518518519 & 131297.777777778 & -22735.68 & 600976.711111111 & -87531.8518518519 & 131297.777777778 & 0.0 & 0.0 & 0.0 & 0.0\\\\0.0 & 0.0 & 0.0 & 0.0 & -9094.272 & -22735.68 & 0.0 & 0.0 & -38903.0452674897 & -87531.8518518519 & 47997.3172674897 & -110267.531851852 & 0.0 & 0.0 & 0.0 & 0.0\\\\0.0 & 0.0 & 0.0 & 0.0 & 22735.68 & 37892.8 & 0.0 & 0.0 & 87531.8518518519 & 131297.777777778 & -110267.531851852 & 338381.155555556 & 0.0 & 0.0 & 0.0 & 0.0\\\\0.0 & 0.0 & 0.0 & 0.0 & 0.0 & 0.0 & 0.0 & 0.0 & 0.0 & 0.0 & 0.0 & 0.0 & 0.0 & 0.0 & 0.0 & 0.0\\\\0.0 & 0.0 & 0.0 & 0.0 & 0.0 & 0.0 & 0.0 & 0.0 & 0.0 & 0.0 & 0.0 & 0.0 & 0.0 & 0.0 & 0.0 & 0.0\\\\0.0 & 0.0 & 0.0 & 0.0 & 0.0 & 0.0 & 0.0 & 0.0 & 0.0 & 0.0 & 0.0 & 0.0 & 0.0 & 0.0 & 0.0 & 0.0\\\\0.0 & 0.0 & 0.0 & 0.0 & 0.0 & 0.0 & 0.0 & 0.0 & 0.0 & 0.0 & 0.0 & 0.0 & 0.0 & 0.0 & 0.0 & 0.0\\end{array}\\right]$"
      ],
      "text/plain": [
       "<IPython.core.display.Math object>"
      ]
     },
     "metadata": {},
     "output_type": "display_data"
    },
    {
     "data": {
      "text/latex": [
       "$\\displaystyle K_\\sigma = \\left[\\begin{array}{cccccccccccccccc}0.266666666666667 & 0.1 & -0.266666666666667 & 0.1 & 0.0 & 0.0 & 0.0 & 0.0 & 0.0 & 0.0 & 0.0 & 0.0 & 0.0 & 0.0 & 0.0 & 0.0\\\\0.1 & 0.6 & -0.1 & -0.15 & 0.0 & 0.0 & 0.0 & 0.0 & 0.0 & 0.0 & 0.0 & 0.0 & 0.0 & 0.0 & 0.0 & 0.0\\\\-0.266666666666667 & -0.1 & 0.533333333333333 & 0.0 & -0.266666666666667 & 0.1 & 0.0 & 0.0 & 0.0 & 0.0 & 0.0 & 0.0 & 0.0 & 0.0 & 0.0 & 0.0\\\\0.1 & -0.15 & 0.0 & 1.2 & -0.1 & -0.15 & 0.0 & 0.0 & 0.0 & 0.0 & 0.0 & 0.0 & 0.0 & 0.0 & 0.0 & 0.0\\\\0.0 & 0.0 & -0.266666666666667 & -0.1 & 0.266666666666667 & -0.1 & 0.0 & 0.0 & 0.0 & 0.0 & 0.0 & 0.0 & 0.0 & 0.0 & 0.0 & 0.0\\\\0.0 & 0.0 & 0.1 & -0.15 & -0.1 & 0.6 & 0.0 & 0.0 & 0.0 & 0.0 & 0.0 & 0.0 & 0.0 & 0.0 & 0.0 & 0.0\\\\0.0 & 0.0 & 0.0 & 0.0 & 0.0 & 0.0 & 0.0 & 0.0 & 0.0 & 0.0 & 0.0 & 0.0 & 0.0 & 0.0 & 0.0 & 0.0\\\\0.0 & 0.0 & 0.0 & 0.0 & 0.0 & 0.0 & 0.0 & 0.0 & 0.0 & 0.0 & 0.0 & 0.0 & 0.0 & 0.0 & 0.0 & 0.0\\\\0.0 & 0.0 & 0.0 & 0.0 & 0.0 & 0.0 & 0.0 & 0.0 & 0.0 & 0.0 & 0.0 & 0.0 & 0.0 & 0.0 & 0.0 & 0.0\\\\0.0 & 0.0 & 0.0 & 0.0 & 0.0 & 0.0 & 0.0 & 0.0 & 0.0 & 0.0 & 0.0 & 0.0 & 0.0 & 0.0 & 0.0 & 0.0\\\\0.0 & 0.0 & 0.0 & 0.0 & 0.0 & 0.0 & 0.0 & 0.0 & 0.0 & 0.0 & 0.0 & 0.0 & 0.0 & 0.0 & 0.0 & 0.0\\\\0.0 & 0.0 & 0.0 & 0.0 & 0.0 & 0.0 & 0.0 & 0.0 & 0.0 & 0.0 & 0.0 & 0.0 & 0.0 & 0.0 & 0.0 & 0.0\\\\0.0 & 0.0 & 0.0 & 0.0 & 0.0 & 0.0 & 0.0 & 0.0 & 0.0 & 0.0 & 0.0 & 0.0 & 0.0 & 0.0 & 0.0 & 0.0\\\\0.0 & 0.0 & 0.0 & 0.0 & 0.0 & 0.0 & 0.0 & 0.0 & 0.0 & 0.0 & 0.0 & 0.0 & 0.0 & 0.0 & 0.0 & 0.0\\\\0.0 & 0.0 & 0.0 & 0.0 & 0.0 & 0.0 & 0.0 & 0.0 & 0.0 & 0.0 & 0.0 & 0.0 & 0.0 & 0.0 & 0.0 & 0.0\\\\0.0 & 0.0 & 0.0 & 0.0 & 0.0 & 0.0 & 0.0 & 0.0 & 0.0 & 0.0 & 0.0 & 0.0 & 0.0 & 0.0 & 0.0 & 0.0\\end{array}\\right]$"
      ],
      "text/plain": [
       "<IPython.core.display.Math object>"
      ]
     },
     "metadata": {},
     "output_type": "display_data"
    }
   ],
   "source": [
    "K = np.zeros([16, 16])\n",
    "K_sig = np.zeros([16, 16])\n",
    "\n",
    "ke1 = Ke_balk(E*I_2, L2)\n",
    "ke2 = Ke_balk(E*I_2, L2)\n",
    "ke3 = Ke_balk(E*I_2, L2)\n",
    "ke4 = Ke_balk(E*I_2, L2)\n",
    "ke5 = Ke_balk(E*I_1, L1)\n",
    "ke6 = Ke_balk(E*I_1, L1)\n",
    "\n",
    "ke1_sig = Ke_sigma_balk(P0, L2)\n",
    "ke2_sig = Ke_sigma_balk(P0, L2)\n",
    "ke4_sig = Ke_sigma_balk(0, L2)\n",
    "ke3_sig = Ke_sigma_balk(0, L2)\n",
    "ke5_sig = Ke_sigma_balk(0, L1)\n",
    "ke6_sig = Ke_sigma_balk(0, L1)\n",
    "\n",
    "assem(K, ke1, dofs=[1,2,3,4])\n",
    "assem(K, ke2, dofs=[3,4,5,6])\n",
    "assem(K, ke3, dofs=[7,8,9,10])\n",
    "assem(K, ke4, dofs=[9,10,11,12])\n",
    "assem(K, ke5, dofs=[3,4,9,10])\n",
    "assem(K, ke6, dofs=[5,6,11,12])\n",
    "\n",
    "assem(K_sig, ke1_sig, dofs=[1,2,3,4])\n",
    "assem(K_sig, ke2_sig, dofs=[3,4,5,6])\n",
    "assem(K_sig, ke3_sig, dofs=[7,8,9,10])\n",
    "assem(K_sig, ke4_sig, dofs=[9,10,11,12])\n",
    "assem(K_sig, ke5_sig, dofs=[3,4,9,10])\n",
    "assem(K_sig, ke6_sig, dofs=[5,6,11,12])\n",
    "\n",
    "displayvar(\"K\", K)\n",
    "displayvar(\"K_\\sigma\", K_sig)"
   ]
  },
  {
   "cell_type": "code",
   "execution_count": null,
   "id": "e55c39ee",
   "metadata": {},
   "outputs": [],
   "source": [
    "# Definiera våra fria frihetsgrader\n",
    "free_dofs = [3,4,5,6,7,8,10,12]\n",
    "\n",
    "# Reducera till enbart fria frihetsgrader\n",
    "K_red = extract_block(K, free_dofs, free_dofs)\n",
    "K_sigma_red = extract_block(K_sig, free_dofs, free_dofs)"
   ]
  },
  {
   "cell_type": "code",
   "execution_count": 12,
   "id": "4713534a",
   "metadata": {},
   "outputs": [
    {
     "name": "stdout",
     "output_type": "stream",
     "text": [
      "α = [            inf+0.j 731160.46253568+0.j 271447.3611952 +0.j\n",
      "             inf+0.j             inf+0.j             inf+0.j\n",
      "             inf+0.j             inf+0.j]\n",
      "Kristisk last P_kr = (inf+nanj)\n"
     ]
    },
    {
     "name": "stderr",
     "output_type": "stream",
     "text": [
      "C:\\Users\\Screa\\AppData\\Local\\Temp\\ipykernel_27492\\258509193.py:10: RuntimeWarning: invalid value encountered in scalar multiply\n",
      "  print(f\"Kristisk last P_kr = {alpha[0]*P0}\")\n"
     ]
    }
   ],
   "source": [
    "# Lös egenvärdesproblemet (K - α K_σ)n = 0\n",
    "# Behöver inte skriva om till ett vanligt egenvärdesproblem för det finns lösare för det \n",
    "# generaliserade egenvärdesproblemet \n",
    "\n",
    "alpha, knäckningsmoder = eig(K_red, K_sigma_red) # => egenvektorer & egenvärden \n",
    "# vill man enbart ha realdelen till α kan man skriva α.real \n",
    "\n",
    "# Skriv ut lastmultiplikatorerna \n",
    "print(f\"α = {alpha}\")\n",
    "print(f\"Kristisk last P_kr = {alpha[0]*P0}\")"
   ]
  },
  {
   "cell_type": "markdown",
   "id": "fa4a402c",
   "metadata": {},
   "source": [
    "Fundera på om ni kan byta ut dig 9 och dof 11 mot 3 resp 5. Varför? Konsekvensnumrera sedan övriga."
   ]
  }
 ],
 "metadata": {
  "kernelspec": {
   "display_name": "Python 3",
   "language": "python",
   "name": "python3"
  },
  "language_info": {
   "codemirror_mode": {
    "name": "ipython",
    "version": 3
   },
   "file_extension": ".py",
   "mimetype": "text/x-python",
   "name": "python",
   "nbconvert_exporter": "python",
   "pygments_lexer": "ipython3",
   "version": "3.11.9"
  }
 },
 "nbformat": 4,
 "nbformat_minor": 5
}
