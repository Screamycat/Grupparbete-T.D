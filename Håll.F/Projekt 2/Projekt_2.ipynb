{
 "cells": [
  {
   "cell_type": "code",
   "execution_count": null,
   "id": "d131f962",
   "metadata": {},
   "outputs": [],
   "source": [
    "import pylab as pl\n",
    "import sympy as sp\n",
    "from mtm026 import *\n",
    "\n",
    "P0 = 1          #[N]\n",
    "L1 = 5          #[m]\n",
    "L2 = 4.5        #[m]\n",
    "a = 0.05        #[m]\n",
    "t = 0.002       #[m]\n",
    "E = 200e9       #[Pa]\n",
    "v = 0.3\n",
    "\n",
    "I_1 = 1.4771e-7\n",
    "I_2 = 1.4771e-7\n",
    "\n",
    "r1,r2,r3,r4,r5,r6,r7,r8,r9,r10,r11,r12,r13,r14,r15,r16 = sp.symbols('r1:17')    # Reaktionskrafter\n",
    "a1,a2,a3,a4,a5,a6,a7,a8,a9,a10,a11,a12,a13,a14,a15,a16 = sp.symbols('a1:17')    # Försjutningar\n",
    "\n",
    "K = sp.zeros(16,16)\n",
    "f = sp.zeros(16, 1)\n",
    "\n",
    "ke1 = Ke_balk(E*I_1, L2)\n",
    "ke5 = Ke_balk(E*I_2, L1)\n",
    "ke2 = ke1\n",
    "ke4 = ke1\n",
    "ke3 = ke1\n",
    "ke6 = ke5\n",
    "\n",
    "f[13] = - P0\n",
    "\n",
    "\n",
    "\n",
    "assem(K, ke1, dofs=[1,2,3,4])\n",
    "assem(K, ke2, dofs=[3,4,5,6])\n",
    "assem(K, ke3, dofs=[5,6,7,8])\n",
    "assem(K, ke4, dofs=[7,8,9,10])\n",
    "assem(K, ke5, dofs=[9,10,11,12])\n",
    "\n",
    "assem(f, fe, dofs=[5,6,7,8])\n",
    "\n",
    "displayvar(\"K\", K)\n",
    "displayvar(\"f\", f)"
   ]
  }
 ],
 "metadata": {
  "language_info": {
   "name": "python"
  }
 },
 "nbformat": 4,
 "nbformat_minor": 5
}
