{
 "cells": [
  {
   "cell_type": "code",
   "execution_count": null,
   "id": "d131f962",
   "metadata": {},
   "outputs": [],
   "source": [
    "import pylab as pl\n",
    "import sympy as sp\n",
    "from mtm026 import *\n",
    "\n",
    "P = 3000        #[N]\n",
    "q0 = 1500       #[N/m]\n",
    "M = 1500        #[Nm]\n",
    "L1 = 1          #[m]\n",
    "L2 = 3          #[m]\n",
    "a = 0.05        #[m]\n",
    "t = 0.002       #[m]\n",
    "E = 200e9       #[Pa]\n",
    "v = 0.3\n",
    "\n",
    "r1,r2,r3,r4,r5,r6,r7,r8,r9,r10,r11,r12,r13,r14,r15,r16 = sp.symbols('r1:17')    # Reaktionskrafter\n",
    "a1,a2,a3,a4,a5,a6,a7,a8,a9,a10,a11,a12,a13,a14,a15,a16 = sp.symbols('a1:17')    # Försjutningar\n"
   ]
  }
 ],
 "metadata": {
  "language_info": {
   "name": "python"
  }
 },
 "nbformat": 4,
 "nbformat_minor": 5
}
