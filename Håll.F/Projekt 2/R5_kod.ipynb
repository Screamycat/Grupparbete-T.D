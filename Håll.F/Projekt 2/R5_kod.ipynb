{
 "cells": [
  {
   "cell_type": "code",
   "execution_count": 2,
   "id": "59312685-c653-4e9e-937f-4247851af950",
   "metadata": {},
   "outputs": [
    {
     "data": {
      "text/plain": [
       "array([[ 0.        ,  0.        ,  0.        ,  0.        ,  0.        ,\n",
       "         0.        ,  0.        ,  0.        ,  0.        ],\n",
       "       [ 0.        ,  0.        ,  0.        ,  0.        ,  0.        ,\n",
       "         0.        ,  0.        ,  0.        ,  0.        ],\n",
       "       [ 0.        ,  0.        ,  0.        ,  0.        ,  0.        ,\n",
       "         0.        ,  0.        ,  0.        ,  0.        ],\n",
       "       [ 0.        ,  0.        ,  0.        ,  0.13333333,  0.        ,\n",
       "         0.        ,  0.1       , -0.1       , -0.03333333],\n",
       "       [ 0.        ,  0.        ,  0.        ,  0.        ,  0.        ,\n",
       "         0.        ,  0.        ,  0.        ,  0.        ],\n",
       "       [ 0.        ,  0.        ,  0.        ,  0.        ,  0.        ,\n",
       "         0.        ,  0.        ,  0.        ,  0.        ],\n",
       "       [ 0.        ,  0.        ,  0.        ,  0.1       ,  0.        ,\n",
       "         0.        ,  1.2       , -1.2       ,  0.1       ],\n",
       "       [ 0.        ,  0.        ,  0.        , -0.1       ,  0.        ,\n",
       "         0.        , -1.2       ,  1.2       , -0.1       ],\n",
       "       [ 0.        ,  0.        ,  0.        , -0.03333333,  0.        ,\n",
       "         0.        ,  0.1       , -0.1       ,  0.13333333]])"
      ]
     },
     "execution_count": 2,
     "metadata": {},
     "output_type": "execute_result"
    }
   ],
   "source": [
    "# 7.3\n",
    "from mtm026 import *\n",
    "\n",
    "# För att kunna lösa allt numeriskt inför vi enhetsvärden på alla variabler\n",
    "P0 = EI = L = H = 1\n",
    "\n",
    "# Definiera styvheterna\n",
    "K = np.zeros((9, 9))\n",
    "K_sig = np.zeros((9, 9))\n",
    "\n",
    "# Skapa elementstyvheter\n",
    "Ke1 = Ke_balk(EI=EI, L=L)\n",
    "Ke2 = Ke_balk(EI=EI, L=L)\n",
    "assem(K, Ke1, dofs=[1, 2, 3, 4])\n",
    "assem(K, Ke2, dofs=[3, 4, 5, 6])\n",
    "\n",
    "# För den stela balken kan vi ge den ett jättehögt värde, alltifrån 1e6 - 1e12 gånger större\n",
    "Ke3 = Ke_balk(EI=EI*10**12, L=H)\n",
    "assem(K, Ke3, dofs=[7, 4, 8, 9])\n",
    "\n",
    "\n",
    "# Skapa spänningsstyvhetsmatriser, men bara den stela balken har en kraft som inte är noll\n",
    "Ke3_sig = Ke_sigma_balk(P=P0, L=H)\n",
    "assem(K_sig, Ke3_sig, dofs=[7, 4, 8, 9])"
   ]
  },
  {
   "cell_type": "code",
   "execution_count": 3,
   "id": "b7103389-6052-49c0-a3a2-387640b09b83",
   "metadata": {},
   "outputs": [],
   "source": [
    "# Definiera våra fria frihetsgrader\n",
    "free_dofs = [2,4,6,8,9]\n",
    "\n",
    "# Reducera till enbart fria frihetsgrader\n",
    "K_red = extract_block(K, free_dofs, free_dofs)\n",
    "K_sigma_red = extract_block(K_sig, free_dofs, free_dofs)"
   ]
  },
  {
   "cell_type": "code",
   "execution_count": 26,
   "id": "c051e78a-e55e-41a5-919a-f7a1956e3c4e",
   "metadata": {},
   "outputs": [
    {
     "data": {
      "text/latex": [
       "$\\displaystyle λ_1 = 0.739913311494905$"
      ],
      "text/plain": [
       "<IPython.core.display.Math object>"
      ]
     },
     "metadata": {},
     "output_type": "display_data"
    },
    {
     "data": {
      "text/latex": [
       "$\\displaystyle a_1 = \\left[\\begin{matrix}0.247582960145674\\\\0.46453657088215\\\\0.712119531027939\\\\0.464536570882322\\end{matrix}\\right]$"
      ],
      "text/plain": [
       "<IPython.core.display.Math object>"
      ]
     },
     "metadata": {},
     "output_type": "display_data"
    }
   ],
   "source": [
    "# Lös det generaliserade egenvärdesproblemet och få ut hur många gånger\n",
    "# större krafter måste vara (varje λ) samt hur den knäckformen ser ut (varje kolonn i a ger en ny form)\n",
    "λ, a = eig(K_red, K_sigma_red)\n",
    "\n",
    "# Sortera för att få den lägsta knäckkraften först\n",
    "sortingOrder = np.argsort(λ)\n",
    "λ = λ[sortingOrder]\n",
    "\n",
    "# Sortera formerna på samma sätt\n",
    "a = a[:, sortingOrder]\n",
    "\n",
    "\n",
    "displayvar(\"λ_1\",np.real(λ[0]))\n",
    "displayvar(\"a_1\",a[:,0])\n",
    "\n",
    "# facit P = 6EI/LH = 6 i vårt fall.\n"
   ]
  },
  {
   "cell_type": "code",
   "execution_count": 5,
   "id": "93ac425a-9f30-41af-a9c8-3e1b7f18dab8",
   "metadata": {},
   "outputs": [
    {
     "data": {
      "text/plain": [
       "array([[ 0.        ,  0.        ,  0.        ,  0.        ,  0.        ,\n",
       "         0.        ,  0.        ,  0.        ,  0.        ],\n",
       "       [ 0.        ,  0.        ,  0.        ,  0.        ,  0.        ,\n",
       "         0.        ,  0.        ,  0.        ,  0.        ],\n",
       "       [ 0.        ,  0.        ,  0.        ,  0.        ,  0.        ,\n",
       "         0.        ,  0.        ,  0.        ,  0.        ],\n",
       "       [ 0.        ,  0.        ,  0.        ,  0.13333333,  0.        ,\n",
       "         0.        ,  0.1       , -0.1       , -0.03333333],\n",
       "       [ 0.        ,  0.        ,  0.        ,  0.        ,  0.        ,\n",
       "         0.        ,  0.        ,  0.        ,  0.        ],\n",
       "       [ 0.        ,  0.        ,  0.        ,  0.        ,  0.        ,\n",
       "         0.        ,  0.        ,  0.        ,  0.        ],\n",
       "       [ 0.        ,  0.        ,  0.        ,  0.1       ,  0.        ,\n",
       "         0.        ,  1.2       , -1.2       ,  0.1       ],\n",
       "       [ 0.        ,  0.        ,  0.        , -0.1       ,  0.        ,\n",
       "         0.        , -1.2       ,  1.2       , -0.1       ],\n",
       "       [ 0.        ,  0.        ,  0.        , -0.03333333,  0.        ,\n",
       "         0.        ,  0.1       , -0.1       ,  0.13333333]])"
      ]
     },
     "execution_count": 5,
     "metadata": {},
     "output_type": "execute_result"
    }
   ],
   "source": [
    "# 7.12\n",
    "\n",
    "# Enhetsvärden på allting igen\n",
    "P0 = EI = L = H = 1\n",
    "\n",
    "K = np.zeros((9, 9))\n",
    "K_sig = np.zeros((9, 9))\n",
    "\n",
    "# ALla tre är lika styva, behöver bara en Ke\n",
    "Ke = Ke_balk(EI=EI, L=L)\n",
    "\n",
    "\n",
    "assem(K, Ke, dofs=[1, 2, 3, 4])\n",
    "assem(K, Ke, dofs=[3, 4, 5, 6])\n",
    "assem(K, Ke, dofs=[7, 4, 8, 9])\n",
    "\n",
    "# Som i 7.3, bara en balk har en normalkraft\n",
    "Ke3_sig = Ke_sigma_balk(P=P0, L=L)\n",
    "\n",
    "assem(K_sig, Ke3_sig, dofs=[7, 4, 8, 9])"
   ]
  },
  {
   "cell_type": "code",
   "execution_count": 6,
   "id": "0e364a20-c867-4518-913e-ce6d2bcd5bba",
   "metadata": {},
   "outputs": [],
   "source": [
    "# Reducera till enbart fria frihetsgrader\n",
    "free_dofs = [2,3,4,6, 8, 9]\n",
    "\n",
    "K_red = extract_block(K, free_dofs, free_dofs)\n",
    "K_sigma_red = extract_block(K_sig, free_dofs, free_dofs)\n"
   ]
  },
  {
   "cell_type": "code",
   "execution_count": 7,
   "id": "6b1ffe5d-bff2-47bc-821b-2acd04a2bc6f",
   "metadata": {},
   "outputs": [
    {
     "name": "stdout",
     "output_type": "stream",
     "text": [
      " λ = [  1.82648482+0.j  23.49185496+0.j 100.68166021+0.j          inf+0.j\n",
      "          inf+0.j          inf+0.j]\n",
      "[ 8.71841175e-02  7.91148005e-19 -1.74368235e-01  8.71841175e-02\n",
      " -5.72799400e-01 -7.91387658e-01]\n"
     ]
    }
   ],
   "source": [
    "# Lös egenvärdesproblemet \n",
    "λ, a = eig(K_red, K_sigma_red)\n",
    "\n",
    "# Sortera allt\n",
    "sortingOrder = np.argsort(λ)\n",
    "λ = λ[sortingOrder]\n",
    "a = a[:, sortingOrder]\n",
    "displayvar(\"λ_1\",np.real(λ[0]))\n",
    "displayvar(\"a_1\",a[:,0])\n",
    "# facit P = 1.8225\n"
   ]
  },
  {
   "cell_type": "code",
   "execution_count": 8,
   "id": "3f1fdfa0-90ec-4597-826c-0e379bf32350",
   "metadata": {},
   "outputs": [
    {
     "data": {
      "text/plain": [
       "array([[ 1.2       ,  0.1       , -1.2       ,  0.1       ,  0.        ,\n",
       "         0.        ],\n",
       "       [ 0.1       ,  0.13333333, -0.1       , -0.03333333,  0.        ,\n",
       "         0.        ],\n",
       "       [-1.2       , -0.1       ,  2.4       ,  0.        , -1.2       ,\n",
       "         0.1       ],\n",
       "       [ 0.1       , -0.03333333,  0.        ,  0.26666667, -0.1       ,\n",
       "        -0.03333333],\n",
       "       [ 0.        ,  0.        , -1.2       , -0.1       ,  1.2       ,\n",
       "        -0.1       ],\n",
       "       [ 0.        ,  0.        ,  0.1       , -0.03333333, -0.1       ,\n",
       "         0.13333333]])"
      ]
     },
     "execution_count": 8,
     "metadata": {},
     "output_type": "execute_result"
    }
   ],
   "source": [
    "# 7.17\n",
    "\n",
    "# Definiera enhetsstorheter\n",
    "P0 = L = EI = 1 # Enhetsvärden\n",
    "\n",
    "K = np.zeros((6, 6))\n",
    "K_sig = np.zeros((6, 6))\n",
    "\n",
    "Ke1 = Ke_balk(EI=EI, L=L)\n",
    "# Andra balken är jättestyv\n",
    "Ke2 = Ke_balk(EI=EI*1e12, L=L) \n",
    "\n",
    "assem(K, Ke1, dofs=[1, 2, 3, 4])\n",
    "assem(K, Ke2, dofs=[3, 4, 5, 6])\n",
    "\n",
    "# Kraften går genom båda balkarna, frilägg och se hur det stämmer\n",
    "Ke1_sig = Ke_sigma_balk(P=P0, L=L)\n",
    "Ke2_sig = Ke_sigma_balk(P=P0, L=L)\n",
    "assem(K_sig, Ke1_sig, dofs=[1, 2, 3, 4])\n",
    "assem(K_sig, Ke2_sig, dofs=[3, 4, 5, 6])\n"
   ]
  },
  {
   "cell_type": "code",
   "execution_count": 9,
   "id": "458edc43-51ad-4829-9c8a-0feee2432ff4",
   "metadata": {},
   "outputs": [],
   "source": [
    "# Ställ upp fria dofs och reducera\n",
    "free_dofs = [3,4, 5, 6] \n",
    "K_red = extract_block(K, free_dofs, free_dofs)\n",
    "K_sigma_red = extract_block(K_sig, free_dofs, free_dofs)"
   ]
  },
  {
   "cell_type": "code",
   "execution_count": 10,
   "id": "02a6b5cc-b312-4df1-beb9-dcfe6a931c1f",
   "metadata": {},
   "outputs": [
    {
     "name": "stdout",
     "output_type": "stream",
     "text": [
      "lastmultiplikatorer α = [7.39913311e-01+0.j 1.20022162e+01+0.j 8.76959191e+12+0.j\n",
      " 4.34657022e+13+0.j]\n",
      "Kritisk last P_kr = (0.739913311494905+0j) N\n",
      "Kritisk last P_kr2 = (12.002216201690747+0j) N\n",
      "[0.24758296 0.46453657 0.71211953 0.46453657]\n",
      "[-0.75592944  0.37796298 -0.37796647  0.37796298]\n"
     ]
    }
   ],
   "source": [
    "# Lös egenvärdesproblemet\n",
    "λ, a = eig(K_red, K_sigma_red)\n",
    "sortingOrder = np.argsort(λ)\n",
    "# Sort alpha\n",
    "λ = λ[sortingOrder]\n",
    "# Use the same indices to sort a\n",
    "a = a[:, sortingOrder]\n",
    "print(f\"lastmultiplikatorer α = {λ}\")\n",
    "displayvar(\"λ_1\",np.real(λ[0]))\n",
    "displayvar(\"λ_2\",np.real(λ[1]))\n",
    "# facit P = 0.860334^2 EI/L**2 = 0.7402 EI/L**2\n",
    "displayvar(\"a_1\",a[:,0])\n",
    "displayvar(\"a_2\",a[:,1])\n"
   ]
  },
  {
   "cell_type": "code",
   "execution_count": 11,
   "id": "abc6591b-b385-4469-8dca-0a52b960b178",
   "metadata": {},
   "outputs": [
    {
     "data": {
      "text/latex": [
       "$\\displaystyle \\left[\\begin{matrix}\\frac{12 EI}{L^{3}} & \\frac{6 EI}{L^{2}} & - \\frac{12 EI}{L^{3}} & \\frac{6 EI}{L^{2}}\\\\\\frac{6 EI}{L^{2}} & \\frac{4 EI}{L} & - \\frac{6 EI}{L^{2}} & \\frac{2 EI}{L}\\\\- \\frac{12 EI}{L^{3}} & - \\frac{6 EI}{L^{2}} & \\frac{12 EI}{L^{3}} & - \\frac{6 EI}{L^{2}}\\\\\\frac{6 EI}{L^{2}} & \\frac{2 EI}{L} & - \\frac{6 EI}{L^{2}} & \\frac{4 EI}{L}\\end{matrix}\\right]$"
      ],
      "text/plain": [
       "Matrix([\n",
       "[ 12*EI/L**3,  6*EI/L**2, -12*EI/L**3,  6*EI/L**2],\n",
       "[  6*EI/L**2,     4*EI/L,  -6*EI/L**2,     2*EI/L],\n",
       "[-12*EI/L**3, -6*EI/L**2,  12*EI/L**3, -6*EI/L**2],\n",
       "[  6*EI/L**2,     2*EI/L,  -6*EI/L**2,     4*EI/L]])"
      ]
     },
     "metadata": {},
     "output_type": "display_data"
    },
    {
     "data": {
      "text/latex": [
       "$\\displaystyle \\left[\\begin{matrix}\\frac{6 P}{5 L} & \\frac{P}{10} & - \\frac{6 P}{5 L} & \\frac{P}{10}\\\\\\frac{P}{10} & \\frac{2 L P}{15} & - \\frac{P}{10} & - \\frac{L P}{30}\\\\- \\frac{6 P}{5 L} & - \\frac{P}{10} & \\frac{6 P}{5 L} & - \\frac{P}{10}\\\\\\frac{P}{10} & - \\frac{L P}{30} & - \\frac{P}{10} & \\frac{2 L P}{15}\\end{matrix}\\right]$"
      ],
      "text/plain": [
       "Matrix([\n",
       "[ 6*P/(5*L),     P/10, -6*P/(5*L),     P/10],\n",
       "[      P/10, 2*L*P/15,      -P/10,  -L*P/30],\n",
       "[-6*P/(5*L),    -P/10,  6*P/(5*L),    -P/10],\n",
       "[      P/10,  -L*P/30,      -P/10, 2*L*P/15]])"
      ]
     },
     "metadata": {},
     "output_type": "display_data"
    }
   ],
   "source": [
    "\n",
    "# Den här går igenom hur man kan lösa allt symboliska, men det fungerar bara i vissa specialfall.\n",
    "\n",
    "from mtm026 import *\n",
    "\n",
    "# Ställ upp symboliska variabler\n",
    "EI, L, P = sp.symbols(\"EI L P\")\n",
    "Ke = Ke_balk(EI,L)\n",
    "Ksig = Ke_sigma_balk(P, L)\n",
    "\n",
    "# Illustrera systemet\n",
    "display(Ke)\n",
    "display(Ksig)\n",
    "\n"
   ]
  },
  {
   "cell_type": "code",
   "execution_count": 12,
   "id": "25575259-2752-4414-bbbb-42a7c75ce1b5",
   "metadata": {},
   "outputs": [
    {
     "data": {
      "text/latex": [
       "$\\displaystyle \\left[\\begin{matrix}\\frac{12 EI}{L^{3}} & - \\frac{6 EI}{L^{2}}\\\\- \\frac{6 EI}{L^{2}} & \\frac{4 EI}{L}\\end{matrix}\\right]$"
      ],
      "text/plain": [
       "Matrix([\n",
       "[12*EI/L**3, -6*EI/L**2],\n",
       "[-6*EI/L**2,     4*EI/L]])"
      ]
     },
     "metadata": {},
     "output_type": "display_data"
    },
    {
     "data": {
      "text/latex": [
       "$\\displaystyle \\left[\\begin{matrix}\\frac{6 P}{5 L} & - \\frac{P}{10}\\\\- \\frac{P}{10} & \\frac{2 L P}{15}\\end{matrix}\\right]$"
      ],
      "text/plain": [
       "Matrix([\n",
       "[6*P/(5*L),    -P/10],\n",
       "[    -P/10, 2*L*P/15]])"
      ]
     },
     "metadata": {},
     "output_type": "display_data"
    }
   ],
   "source": [
    "# Reducera för att illustrera\n",
    "Ke_red = extract_block(Ke,[3,4],[3,4])\n",
    "Ksig_red = extract_block(Ksig,[3,4],[3,4])\n",
    "\n",
    "display(Ke_red)\n",
    "display(Ksig_red)"
   ]
  },
  {
   "cell_type": "code",
   "execution_count": 13,
   "id": "11776541-1e7d-4811-b929-9ab357b2da65",
   "metadata": {},
   "outputs": [
    {
     "data": {
      "text/latex": [
       "$\\displaystyle eigvals = \\left\\{ \\frac{4 EI \\left(\\frac{13}{3} - \\frac{2 \\sqrt{31}}{3}\\right)}{L^{2} P} : 1, \\  \\frac{4 EI \\left(\\frac{2 \\sqrt{31}}{3} + \\frac{13}{3}\\right)}{L^{2} P} : 1\\right\\}$"
      ],
      "text/plain": [
       "<IPython.core.display.Math object>"
      ]
     },
     "metadata": {},
     "output_type": "display_data"
    },
    {
     "data": {
      "text/latex": [
       "$\\displaystyle eigvecs = \\left[ \\left( \\frac{4 EI \\left(\\frac{13}{3} - \\frac{2 \\sqrt{31}}{3}\\right)}{L^{2} P}, \\  1, \\  \\left[ \\left[\\begin{matrix}- \\frac{L \\left(\\frac{13}{3} - \\frac{2 \\sqrt{31}}{3}\\right)}{10} + \\frac{7 L}{10}\\\\1\\end{matrix}\\right]\\right]\\right), \\  \\left( \\frac{4 EI \\left(\\frac{2 \\sqrt{31}}{3} + \\frac{13}{3}\\right)}{L^{2} P}, \\  1, \\  \\left[ \\left[\\begin{matrix}- \\frac{L \\left(\\frac{2 \\sqrt{31}}{3} + \\frac{13}{3}\\right)}{10} + \\frac{7 L}{10}\\\\1\\end{matrix}\\right]\\right]\\right)\\right]$"
      ],
      "text/plain": [
       "<IPython.core.display.Math object>"
      ]
     },
     "metadata": {},
     "output_type": "display_data"
    }
   ],
   "source": [
    "# Lös egenvärdesproblemet (A-λB)x = 0 => inv(B)*A*x = λx vilket blir ett vanligt egenvärdesproblem\n",
    "# som kan lösas med .eigenvals() från sympy\n",
    "\n",
    "A = Ksig_red.inv()*Ke_red\n",
    "\n",
    "displayvar(\"eigvals\",A.eigenvals())\n",
    "displayvar(\"eigvecs\",A.eigenvects())\n"
   ]
  },
  {
   "cell_type": "code",
   "execution_count": 14,
   "id": "4f36045d-3151-4c41-8f36-f9ef3ca7d2f0",
   "metadata": {},
   "outputs": [
    {
     "data": {
      "text/latex": [
       "$\\displaystyle eigs = \\left[ \\frac{52}{3} - \\frac{8 \\sqrt{31}}{3}, \\  \\frac{8 \\sqrt{31}}{3} + \\frac{52}{3}\\right]$"
      ],
      "text/plain": [
       "<IPython.core.display.Math object>"
      ]
     },
     "metadata": {},
     "output_type": "display_data"
    },
    {
     "data": {
      "text/latex": [
       "$\\displaystyle 2.486$"
      ],
      "text/plain": [
       "2.486"
      ]
     },
     "metadata": {},
     "output_type": "display_data"
    },
    {
     "data": {
      "text/latex": [
       "$\\displaystyle 32.181$"
      ],
      "text/plain": [
       "32.181"
      ]
     },
     "metadata": {},
     "output_type": "display_data"
    }
   ],
   "source": [
    "# Substituera in värden för att beräkna kritisk last\n",
    "\n",
    "B = A.subs({EI:1,L:1,P:1})\n",
    "Beigs = list(B.eigenvals().keys())\n",
    "\n",
    "displayvar(\"eigs\",Beigs)\n",
    "display(Beigs[0].round(3),Beigs[1].round(3))\n"
   ]
  },
  {
   "cell_type": "code",
   "execution_count": 15,
   "id": "a4b43772-4f94-4f1e-a4af-ac89b68f7027",
   "metadata": {},
   "outputs": [
    {
     "data": {
      "text/latex": [
       "$\\displaystyle α_1 = 2.48596169911994$"
      ],
      "text/plain": [
       "<IPython.core.display.Math object>"
      ]
     },
     "metadata": {},
     "output_type": "display_data"
    }
   ],
   "source": [
    "# Ställ upp problemet numeriskt med antagna värden EI = 1, L = 1, P = 1\n",
    "Ke_num = Ke_balk(1,1)\n",
    "Ksig_num = Ke_sigma_balk(1,1)\n",
    "\n",
    "# Vi har bara ett element, så reducera till frihetsgrad 3, 4\n",
    "Ke_red_num = extract_block(Ke_num,[3,4],[3,4])\n",
    "Ksig_red_num = extract_block(Ksig_num,[3,4],[3,4])\n",
    "\n",
    "# Specifikt för den här implementationen, byt variabeltyp för att inte krascha\n",
    "Ke_red_num = np.array(Ke_red_num).astype(np.float64)\n",
    "Ksig_red_num = np.array(Ksig_red_num).astype(np.float64)\n",
    "\n",
    "# Lös egenvärdesproblemet och sortera alla egenvärden\n",
    "alpha,a = eig(Ke_red_num,Ksig_red_num)\n",
    "alpha = np.real(alpha[np.argsort(alpha)])\n",
    "\n",
    "# Jämföra detta med ovan värde!\n",
    "displayvar(\"α_1\",alpha[0])\n",
    "\n"
   ]
  },
  {
   "cell_type": "code",
   "execution_count": 19,
   "id": "e45f50e0-ed24-492e-a228-6eaace6bb315",
   "metadata": {},
   "outputs": [
    {
     "data": {
      "text/latex": [
       "$\\displaystyle Euler_2 = 9.86902225$"
      ],
      "text/plain": [
       "<IPython.core.display.Math object>"
      ]
     },
     "metadata": {},
     "output_type": "display_data"
    },
    {
     "data": {
      "text/latex": [
       "$\\displaystyle α_1 = 9.86973724207151$"
      ],
      "text/plain": [
       "<IPython.core.display.Math object>"
      ]
     },
     "metadata": {},
     "output_type": "display_data"
    }
   ],
   "source": [
    "# Exempel på att ta fram kritisk last för godtyckligt antal balkelement.\n",
    "# Standardvärdena är för Euler 2, men de fria frihetsgraderna kan ändras för att ge olika\n",
    "# Begränsa er till ca 100 element eftersom lösningen blir väldigt långsam för stora matriser.\n",
    "\n",
    "from mtm026 import *\n",
    "import matplotlib.pyplot as plt\n",
    "\n",
    "# Antal balkelement\n",
    "nr_balk = 10\n",
    "\n",
    "# Definiera alla värden\n",
    "L = 1/nr_balk\n",
    "EI = P = 1\n",
    "k = 1\n",
    "\n",
    "# Skapa globala matriser\n",
    "K = np.zeros((2*nr_balk+2,2*nr_balk+2))\n",
    "Ksig = np.zeros((2*nr_balk+2,2*nr_balk+2))\n",
    "\n",
    "# Skapa elementmatriser. Eftersom alla delar är lika stora gör vi det en gång.\n",
    "Ke1 = Ke_balk(EI,L)\n",
    "Kesig1 = Ke_sigma_balk(P,L)\n",
    "\n",
    "# Assemblera matriserna på rätt plats\n",
    "for i in range(nr_balk):\n",
    "    assem(K,Ke1,[2*i+1,2*i+2,2*i+3,2*i+4])\n",
    "    assem(Ksig,Kesig1,[2*i+1,2*i+2,2*i+3,2*i+4])\n",
    "\n",
    "# Definierar frihetsgraderna i en lista\n",
    "dof_free = list(range(1,nr_balk*2+2+1))\n",
    "\n",
    "# Tar bort frihetsgrader som inte ska vara med, nr 1 och näst-sista för Euler 2 t.ex.\n",
    "dof_free.remove(1)\n",
    "dof_free.remove(nr_balk*2+1)\n",
    "\n",
    "# Extrahera de fria\n",
    "Kred = extract_block(K,dof_free,dof_free)\n",
    "Ksigred = extract_block(Ksig,dof_free,dof_free)\n",
    "\n",
    "# Lös egenvärdesproblemet\n",
    "alpha, a = eig(Kred,Ksigred)\n",
    "\n",
    "# Jämför med teoretiska värden\n",
    "displayvar('Euler_2',(3.1415/1)**2*EI)\n",
    "sortOrder = np.argsort(alpha)\n",
    "alpha = alpha[sortOrder]\n",
    "a = a[:,sortOrder]\n",
    "displayvar('α_1',np.real(alpha[0])*EI/(L*nr_balk)**2)\n",
    "a1 = np.concatenate(([0],np.array(a[0:-1,0]),[0],a[-1:,0]))\n",
    "\n",
    "\n",
    "\n"
   ]
  }
 ],
 "metadata": {
  "kernelspec": {
   "display_name": "Python 3 (Spyder)",
   "language": "python3",
   "name": "python3"
  },
  "language_info": {
   "codemirror_mode": {
    "name": "ipython",
    "version": 3
   },
   "file_extension": ".py",
   "mimetype": "text/x-python",
   "name": "python",
   "nbconvert_exporter": "python",
   "pygments_lexer": "ipython3",
   "version": "3.11.10"
  }
 },
 "nbformat": 4,
 "nbformat_minor": 5
}
