{
 "cells": [
  {
   "cell_type": "markdown",
   "metadata": {},
   "source": [
    "# FÖ6 - Linjäriserad knäckning\n",
    "\n",
    "## Exempel från föreläsning - Eulers första knäckfall\n",
    "OBS: att lösa problemet symbolisk på det här sättet är bara för att illustration. Vid all problemlösning kommer ni använda numeriska värden och matriser."
   ]
  },
  {
   "cell_type": "code",
   "execution_count": 2,
   "metadata": {},
   "outputs": [
    {
     "data": {
      "text/latex": [
       "$\\displaystyle K = \\left[\\begin{matrix}\\frac{12 EI}{L^{3}} & \\frac{6 EI}{L^{2}} & - \\frac{12 EI}{L^{3}} & \\frac{6 EI}{L^{2}}\\\\\\frac{6 EI}{L^{2}} & \\frac{4 EI}{L} & - \\frac{6 EI}{L^{2}} & \\frac{2 EI}{L}\\\\- \\frac{12 EI}{L^{3}} & - \\frac{6 EI}{L^{2}} & \\frac{12 EI}{L^{3}} & - \\frac{6 EI}{L^{2}}\\\\\\frac{6 EI}{L^{2}} & \\frac{2 EI}{L} & - \\frac{6 EI}{L^{2}} & \\frac{4 EI}{L}\\end{matrix}\\right]$"
      ],
      "text/plain": [
       "<IPython.core.display.Math object>"
      ]
     },
     "metadata": {},
     "output_type": "display_data"
    },
    {
     "data": {
      "text/latex": [
       "$\\displaystyle K_{\\sigma} = \\left[\\begin{matrix}\\frac{6}{5 L} & \\frac{1}{10} & - \\frac{6}{5 L} & \\frac{1}{10}\\\\\\frac{1}{10} & \\frac{2 L}{15} & - \\frac{1}{10} & - \\frac{L}{30}\\\\- \\frac{6}{5 L} & - \\frac{1}{10} & \\frac{6}{5 L} & - \\frac{1}{10}\\\\\\frac{1}{10} & - \\frac{L}{30} & - \\frac{1}{10} & \\frac{2 L}{15}\\end{matrix}\\right]$"
      ],
      "text/plain": [
       "<IPython.core.display.Math object>"
      ]
     },
     "metadata": {},
     "output_type": "display_data"
    }
   ],
   "source": [
    "from mtm026 import *\n",
    "\n",
    "P, EI, L= sp.symbols('P EI L')\n",
    "K = sp.zeros(4, 4)\n",
    "K_sig = sp.zeros(4, 4)\n",
    "\n",
    "# Styvhetsmatris och geometrisk styvhetsmatris för strukturen\n",
    "K = Ke_balk(EI=EI, L=L)\n",
    "K_sig = Ke_sigma_balk(P=1, L=L) # 1N som referenslast\n",
    "\n",
    "displayvar(\"K\", K)\n",
    "displayvar(\"K_{\\sigma}\", K_sig)"
   ]
  },
  {
   "cell_type": "code",
   "execution_count": 3,
   "metadata": {},
   "outputs": [
    {
     "data": {
      "text/latex": [
       "$\\displaystyle K_{red} = \\left[\\begin{matrix}\\frac{12 EI}{L^{3}} & - \\frac{6 EI}{L^{2}}\\\\- \\frac{6 EI}{L^{2}} & \\frac{4 EI}{L}\\end{matrix}\\right]$"
      ],
      "text/plain": [
       "<IPython.core.display.Math object>"
      ]
     },
     "metadata": {},
     "output_type": "display_data"
    },
    {
     "data": {
      "text/latex": [
       "$\\displaystyle K_{\\sigma red} = \\left[\\begin{matrix}\\frac{6}{5 L} & - \\frac{1}{10}\\\\- \\frac{1}{10} & \\frac{2 L}{15}\\end{matrix}\\right]$"
      ],
      "text/plain": [
       "<IPython.core.display.Math object>"
      ]
     },
     "metadata": {},
     "output_type": "display_data"
    }
   ],
   "source": [
    "# Reducera ekvationssystemet\n",
    "free_dofs = [3, 4] # (free degrees of freedom) fria frihetsgrader - de vi vill behålla\n",
    "K_red = extract_block(K, free_dofs, free_dofs)\n",
    "K_sigma_red = extract_block(K_sig, free_dofs, free_dofs)\n",
    "\n",
    "displayvar(\"K_{red}\", K_red)\n",
    "displayvar(\"K_{\\sigma red}\",K_sigma_red)\n"
   ]
  },
  {
   "cell_type": "code",
   "execution_count": 4,
   "metadata": {},
   "outputs": [
    {
     "data": {
      "text/latex": [
       "$\\displaystyle α = \\left[\\begin{matrix}\\frac{4 EI \\left(\\frac{13}{3} - \\frac{2 \\sqrt{31}}{3}\\right)}{L^{2}} & 0\\\\0 & \\frac{4 EI \\left(\\frac{2 \\sqrt{31}}{3} + \\frac{13}{3}\\right)}{L^{2}}\\end{matrix}\\right]$"
      ],
      "text/plain": [
       "<IPython.core.display.Math object>"
      ]
     },
     "metadata": {},
     "output_type": "display_data"
    },
    {
     "data": {
      "text/latex": [
       "$\\displaystyle α = \\left[\\begin{matrix}\\frac{2.486 EI}{L^{2}} & \\frac{32.18 EI}{L^{2}}\\end{matrix}\\right]$"
      ],
      "text/plain": [
       "<IPython.core.display.Math object>"
      ]
     },
     "metadata": {},
     "output_type": "display_data"
    },
    {
     "data": {
      "text/latex": [
       "$\\displaystyle P_{kr}^{E1} = 2.46740110027234$"
      ],
      "text/plain": [
       "<IPython.core.display.Math object>"
      ]
     },
     "metadata": {},
     "output_type": "display_data"
    }
   ],
   "source": [
    "# Lös egenvärdesproblemet (K - α K_σ)n = 0\n",
    "# skriv om som ett vanligt egenvärdesproblem: K_σ⁻¹ * (K - α K_σ)n = (A - α I)n = 0 \n",
    "# koeffficientmatris: A = K_σ⁻¹ * (K  \n",
    "A = sp.Inverse(K_sigma_red)*K_red \n",
    "knäckningsmoder, α = A.diagonalize() # diagonalisera matrisen => egenvektorer & egenvärden \n",
    "\n",
    "# Skriv ut lastmultiplikatorerna \n",
    "displayvar(\"α\", α)\n",
    "displayvar(\"α\", α.diagonal().evalf(4)) # plocka ut diagonalen och avrunda\n",
    "# OBS! värdena på lastmultiplikatorerna är skalade med faktorn EI/L^2\n",
    "\n",
    "# Skriv ut vad den analytiska lösningen till Euler 1 är som jämförelse:\n",
    "displayvar(\"P_{kr}^{E1}\", np.pi**2/4) "
   ]
  },
  {
   "cell_type": "markdown",
   "metadata": {},
   "source": [
    "## Samma exempel men hur man löser praktiskt med numeriska värden istället för symboliska\n",
    "Metoden ovan att lösa symboliskt fungerar enbart för mycket enkla fall. Generellt måste man lösa problmet numeriskt - det är vad jag gör här och det är så ni ska lösa problem. "
   ]
  },
  {
   "cell_type": "code",
   "execution_count": 5,
   "metadata": {},
   "outputs": [
    {
     "data": {
      "text/latex": [
       "$\\displaystyle K = \\left[\\begin{matrix}12.0 & 6.0 & -12.0 & 6.0\\\\6.0 & 4.0 & -6.0 & 2.0\\\\-12.0 & -6.0 & 12.0 & -6.0\\\\6.0 & 2.0 & -6.0 & 4.0\\end{matrix}\\right]$"
      ],
      "text/plain": [
       "<IPython.core.display.Math object>"
      ]
     },
     "metadata": {},
     "output_type": "display_data"
    },
    {
     "data": {
      "text/latex": [
       "$\\displaystyle K_{\\sigma} = \\left[\\begin{matrix}1.2 & 0.1 & -1.2 & 0.1\\\\0.1 & 0.133333333333333 & -0.1 & -0.0333333333333333\\\\-1.2 & -0.1 & 1.2 & -0.1\\\\0.1 & -0.0333333333333333 & -0.1 & 0.133333333333333\\end{matrix}\\right]$"
      ],
      "text/plain": [
       "<IPython.core.display.Math object>"
      ]
     },
     "metadata": {},
     "output_type": "display_data"
    }
   ],
   "source": [
    "from mtm026 import *\n",
    "\n",
    "EI = L = P0 = 1 # sätt enhetsvärden => svaren på α ska skalas med faktorn EI/L^2\n",
    "K = np.zeros((4, 4)) # sp -> np \n",
    "K_sig = np.zeros((4, 4)) # sp -> np \n",
    "\n",
    "# Styvhetsmatris och geometrisk styvhetsmatris för strukturen\n",
    "Ke = Ke_balk(EI=EI, L=L)\n",
    "Ke_sig = Ke_sigma_balk(P=P0, L=L) # 1N som referenslast\n",
    "assem(K, Ke, dofs=[1, 2, 3, 4])\n",
    "assem(K_sig, Ke_sig, dofs=[1, 2, 3, 4])\n",
    "\n",
    "displayvar(\"K\", K)\n",
    "displayvar(\"K_{\\sigma}\", K_sig)"
   ]
  },
  {
   "cell_type": "code",
   "execution_count": 6,
   "metadata": {},
   "outputs": [
    {
     "data": {
      "text/latex": [
       "$\\displaystyle K_{red} = \\left[\\begin{matrix}12.0 & -6.0\\\\-6.0 & 4.0\\end{matrix}\\right]$"
      ],
      "text/plain": [
       "<IPython.core.display.Math object>"
      ]
     },
     "metadata": {},
     "output_type": "display_data"
    },
    {
     "data": {
      "text/latex": [
       "$\\displaystyle K_{\\sigma red} = \\left[\\begin{matrix}1.2 & -0.1\\\\-0.1 & 0.133333333333333\\end{matrix}\\right]$"
      ],
      "text/plain": [
       "<IPython.core.display.Math object>"
      ]
     },
     "metadata": {},
     "output_type": "display_data"
    }
   ],
   "source": [
    "# Reducera ekvationssystemet\n",
    "free_dofs = [3, 4] # (free degrees of freedom) fria frihetsgrader - de vi vill behålla\n",
    "K_red = extract_block(K, free_dofs, free_dofs)\n",
    "K_sigma_red = extract_block(K_sig, free_dofs, free_dofs)\n",
    "\n",
    "displayvar(\"K_{red}\", K_red)\n",
    "displayvar(\"K_{\\sigma red}\",K_sigma_red)"
   ]
  },
  {
   "cell_type": "code",
   "execution_count": 7,
   "metadata": {},
   "outputs": [
    {
     "name": "stdout",
     "output_type": "stream",
     "text": [
      "α = [ 2.4859617 +0.j 32.18070497+0.j]\n",
      "Kristisk last P_kr = (2.485961699119941+0j) EI/L^2\n"
     ]
    },
    {
     "data": {
      "text/latex": [
       "$\\displaystyle P_{kr}^{E1} = 2.46740110027234$"
      ],
      "text/plain": [
       "<IPython.core.display.Math object>"
      ]
     },
     "metadata": {},
     "output_type": "display_data"
    }
   ],
   "source": [
    "# Lös egenvärdesproblemet (K - α K_σ)n = 0\n",
    "# Behöver inte skriva om till ett vanligt egenvärdesproblem för det finns lösare för det \n",
    "# generaliserade egenvärdesproblemet \n",
    "\n",
    "α, knäckningsmoder = eig(K_red, K_sigma_red) # => egenvektorer & egenvärden \n",
    "# vill man enbart ha realdelen till α kan man skriva α.real \n",
    "α\n",
    "# Skriv ut lastmultiplikatorerna \n",
    "print(f\"α = {α}\")\n",
    "print(f\"Kristisk last P_kr = {α[0]*P0} EI/L^2\")\n",
    "# OBS: Värdena på α är samma som tidigare exmplet men ska skalas med faktorn EI/L^2\n",
    "\n",
    "\n",
    "# Jämför med den analytiska lösningen till Euler 1:\n",
    "displayvar(\"P_{kr}^{E1}\", np.pi**2/4) \n",
    "\n"
   ]
  }
 ],
 "metadata": {
  "kernelspec": {
   "display_name": "Python 3",
   "language": "python",
   "name": "python3"
  },
  "language_info": {
   "codemirror_mode": {
    "name": "ipython",
    "version": 3
   },
   "file_extension": ".py",
   "mimetype": "text/x-python",
   "name": "python",
   "nbconvert_exporter": "python",
   "pygments_lexer": "ipython3",
   "version": "3.11.9"
  }
 },
 "nbformat": 4,
 "nbformat_minor": 2
}
