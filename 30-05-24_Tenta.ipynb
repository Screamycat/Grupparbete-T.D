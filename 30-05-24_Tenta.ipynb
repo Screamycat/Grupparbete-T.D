{
 "cells": [
  {
   "cell_type": "markdown",
   "id": "1c2ded3c",
   "metadata": {},
   "source": [
    "# 30-05-24 Tenta\n",
    "## Uppgift 1"
   ]
  },
  {
   "cell_type": "code",
   "execution_count": 1,
   "id": "78af7272",
   "metadata": {},
   "outputs": [
    {
     "data": {
      "text/latex": [
       "$\\displaystyle K = \\left[\\begin{matrix}\\frac{12 EI}{L^{3}} & \\frac{6 EI}{L^{2}} & - \\frac{12 EI}{L^{3}} & \\frac{6 EI}{L^{2}} & 0 & 0\\\\\\frac{6 EI}{L^{2}} & \\frac{4 EI}{L} & - \\frac{6 EI}{L^{2}} & \\frac{2 EI}{L} & 0 & 0\\\\- \\frac{12 EI}{L^{3}} & - \\frac{6 EI}{L^{2}} & \\frac{24 EI}{L^{3}} & 0 & - \\frac{12 EI}{L^{3}} & \\frac{6 EI}{L^{2}}\\\\\\frac{6 EI}{L^{2}} & \\frac{2 EI}{L} & 0 & \\frac{8 EI}{L} & - \\frac{6 EI}{L^{2}} & \\frac{2 EI}{L}\\\\0 & 0 & - \\frac{12 EI}{L^{3}} & - \\frac{6 EI}{L^{2}} & \\frac{12 EI}{L^{3}} & - \\frac{6 EI}{L^{2}}\\\\0 & 0 & \\frac{6 EI}{L^{2}} & \\frac{2 EI}{L} & - \\frac{6 EI}{L^{2}} & \\frac{4 EI}{L}\\end{matrix}\\right]$"
      ],
      "text/plain": [
       "<IPython.core.display.Math object>"
      ]
     },
     "metadata": {},
     "output_type": "display_data"
    }
   ],
   "source": [
    "from mtm026 import *\n",
    "\n",
    "EI, L, q0 = sp.symbols('EI L q0') \n",
    "\n",
    "K = sp.zeros(6, 6)\n",
    "K1 = Ke_balk(EI, L)\n",
    "K2 = K1\n",
    "assem(K, K1, dofs=[1,2,3,4])\n",
    "assem(K, K2, dofs=[3,4,5,6])\n",
    "\n",
    "displayvar('K', K)"
   ]
  },
  {
   "cell_type": "code",
   "execution_count": 2,
   "id": "2afadfd2",
   "metadata": {},
   "outputs": [
    {
     "data": {
      "text/latex": [
       "$\\displaystyle f = \\left[\\begin{matrix}- \\frac{3 L q_{0}}{20}\\\\- \\frac{L^{2} q_{0}}{30}\\\\- \\frac{7 L q_{0}}{10}\\\\0\\\\- \\frac{3 L q_{0}}{20}\\\\\\frac{L^{2} q_{0}}{30}\\end{matrix}\\right]$"
      ],
      "text/plain": [
       "<IPython.core.display.Math object>"
      ]
     },
     "metadata": {},
     "output_type": "display_data"
    }
   ],
   "source": [
    "f = sp.zeros(6, 1)\n",
    "f1 = fe_balk(q=-q0, L=L) + fe_balk_linjär_last(q=q0, L=L)\n",
    "f2 = fe_balk_linjär_last(q=-q0, L=L)\n",
    "assem(f, f1, dofs=[1,2,3,4])\n",
    "assem(f, f2, dofs=[3,4,5,6])\n",
    "\n",
    "displayvar('f', f)"
   ]
  },
  {
   "cell_type": "code",
   "execution_count": 3,
   "id": "e2cdd3b9",
   "metadata": {},
   "outputs": [
    {
     "data": {
      "text/plain": [
       "{a3: -7*L**4*q0/(240*EI),\n",
       " a4: 0,\n",
       " r1: L*q0/2,\n",
       " r2: 5*L**2*q0/24,\n",
       " r5: L*q0/2,\n",
       " r6: -5*L**2*q0/24}"
      ]
     },
     "metadata": {},
     "output_type": "display_data"
    }
   ],
   "source": [
    "a1, a2, a3, a4, a5, a6 = sp.symbols('a1:7')\n",
    "r1, r2, r3, r4, r5, r6 = sp.symbols('r1:7')\n",
    "\n",
    "a = sp.Matrix([0, 0, a3, a4, 0, 0])\n",
    "r = sp.Matrix([r1, r2, 0, 0, r5, r6])\n",
    "\n",
    "eq = sp.Eq(K*a, r + f)\n",
    "unkowns = [r1, r2, a3, a4, r5, r6]\n",
    "\n",
    "sol = sp.solve(eq, unkowns)\n",
    "\n",
    "display(sol)"
   ]
  },
  {
   "cell_type": "code",
   "execution_count": 4,
   "id": "fed6f5a5",
   "metadata": {},
   "outputs": [
    {
     "data": {
      "text/latex": [
       "$\\displaystyle a = \\left[\\begin{matrix}0\\\\0\\\\- \\frac{7 L^{4} q_{0}}{240 EI}\\\\0\\\\0\\\\0\\end{matrix}\\right]$"
      ],
      "text/plain": [
       "<IPython.core.display.Math object>"
      ]
     },
     "metadata": {},
     "output_type": "display_data"
    },
    {
     "data": {
      "text/latex": [
       "$\\displaystyle r = \\left[\\begin{matrix}\\frac{L q_{0}}{2}\\\\\\frac{5 L^{2} q_{0}}{24}\\\\0\\\\0\\\\\\frac{L q_{0}}{2}\\\\- \\frac{5 L^{2} q_{0}}{24}\\end{matrix}\\right]$"
      ],
      "text/plain": [
       "<IPython.core.display.Math object>"
      ]
     },
     "metadata": {},
     "output_type": "display_data"
    }
   ],
   "source": [
    "a = a.subs(sol)\n",
    "r = r.subs(sol)\n",
    "\n",
    "displayvar('a', a)\n",
    "displayvar('r', r)"
   ]
  },
  {
   "cell_type": "markdown",
   "id": "d329bd36",
   "metadata": {},
   "source": [
    "## Uppgift 2"
   ]
  },
  {
   "cell_type": "code",
   "execution_count": 5,
   "id": "2e77fc79",
   "metadata": {},
   "outputs": [
    {
     "data": {
      "text/latex": [
       "$\\displaystyle K = \\left[\\begin{matrix}12.0 & 6.0 & -12.0 & 6.0 & 0.0 & 0.0 & 0.0\\\\6.0 & 4.0 & -6.0 & 2.0 & 0.0 & 0.0 & 0.0\\\\-12.0 & -6.0 & 25.0 & 0.0 & -12.0 & 6.0 & -1.0\\\\6.0 & 2.0 & 0.0 & 8.0 & -6.0 & 2.0 & 0.0\\\\0.0 & 0.0 & -12.0 & -6.0 & 12.0 & -6.0 & 0.0\\\\0.0 & 0.0 & 6.0 & 2.0 & -6.0 & 4.0 & 0.0\\\\0.0 & 0.0 & -1.0 & 0.0 & 0.0 & 0.0 & 1.0\\end{matrix}\\right]$"
      ],
      "text/plain": [
       "<IPython.core.display.Math object>"
      ]
     },
     "metadata": {},
     "output_type": "display_data"
    },
    {
     "data": {
      "text/latex": [
       "$\\displaystyle K_\\sigma = \\left[\\begin{matrix}1.2 & 0.1 & -1.2 & 0.1 & 0.0 & 0.0 & 0.0\\\\0.1 & 0.133333333333333 & -0.1 & -0.0333333333333333 & 0.0 & 0.0 & 0.0\\\\-1.2 & -0.1 & 2.4 & 0.0 & -1.2 & 0.1 & 0.0\\\\0.1 & -0.0333333333333333 & 0.0 & 0.266666666666667 & -0.1 & -0.0333333333333333 & 0.0\\\\0.0 & 0.0 & -1.2 & -0.1 & 1.2 & -0.1 & 0.0\\\\0.0 & 0.0 & 0.1 & -0.0333333333333333 & -0.1 & 0.133333333333333 & 0.0\\\\0.0 & 0.0 & 0.0 & 0.0 & 0.0 & 0.0 & 0.0\\end{matrix}\\right]$"
      ],
      "text/plain": [
       "<IPython.core.display.Math object>"
      ]
     },
     "metadata": {},
     "output_type": "display_data"
    }
   ],
   "source": [
    "EI, L, P = 1, 1, 1\n",
    "\n",
    "K = np.zeros([7, 7])\n",
    "K_sig = np.zeros([7, 7])\n",
    "\n",
    "ke1 = Ke_balk(EI, L)\n",
    "ke2 = ke1\n",
    "ke3 = Ke_fjäder(k=EI/L**3)\n",
    "assem(K, ke1, dofs=[1,2,3,4])\n",
    "assem(K, ke2, dofs=[3,4,5,6])\n",
    "assem(K, ke3, dofs=[3, 7])\n",
    "\n",
    "ke1_sig = Ke_sigma_balk(P, L)\n",
    "ke2_sig = Ke_sigma_balk(P, L)\n",
    "assem(K_sig, ke1_sig, dofs=[1,2,3,4])\n",
    "assem(K_sig, ke2_sig, dofs=[3,4,5,6])\n",
    "\n",
    "displayvar('K', K)\n",
    "displayvar('K_\\sigma', K_sig)"
   ]
  },
  {
   "cell_type": "code",
   "execution_count": 6,
   "id": "f52cf964",
   "metadata": {},
   "outputs": [
    {
     "data": {
      "text/latex": [
       "$\\displaystyle K_{red} = \\left[\\begin{matrix}25.0 & 0.0 & 6.0\\\\0.0 & 8.0 & 2.0\\\\6.0 & 2.0 & 4.0\\end{matrix}\\right]$"
      ],
      "text/plain": [
       "<IPython.core.display.Math object>"
      ]
     },
     "metadata": {},
     "output_type": "display_data"
    },
    {
     "data": {
      "text/latex": [
       "$\\displaystyle K_{\\sigma, red} = \\left[\\begin{matrix}2.4 & 0.0 & 0.1\\\\0.0 & 0.266666666666667 & -0.0333333333333333\\\\0.1 & -0.0333333333333333 & 0.133333333333333\\end{matrix}\\right]$"
      ],
      "text/plain": [
       "<IPython.core.display.Math object>"
      ]
     },
     "metadata": {},
     "output_type": "display_data"
    },
    {
     "data": {
      "text/latex": [
       "$\\displaystyle a_{red} = \\left( a_{3}, \\  a_{4}, \\  a_{6}\\right)$"
      ],
      "text/plain": [
       "<IPython.core.display.Math object>"
      ]
     },
     "metadata": {},
     "output_type": "display_data"
    }
   ],
   "source": [
    "free_dofs = [3, 4, 6]\n",
    "\n",
    "a = sp.symbols('a3 a4 a6')\n",
    "K_red = extract_block(K, free_dofs, free_dofs)\n",
    "K_sig_red = extract_block(K_sig, free_dofs, free_dofs)\n",
    "\n",
    "displayvar('K_{red}', K_red)\n",
    "displayvar('K_{\\sigma, red}', K_sig_red)\n",
    "displayvar('a_{red}', a)\n",
    "\n",
    "# a, svar"
   ]
  },
  {
   "cell_type": "code",
   "execution_count": 7,
   "id": "f74267a4",
   "metadata": {},
   "outputs": [
    {
     "name": "stdout",
     "output_type": "stream",
     "text": [
      "α = ['5.53', '18.85', '49.38']\n",
      "Kristisk last P_kr = 5.53 N\n"
     ]
    }
   ],
   "source": [
    "# Lös egenvärdesproblemet (K - α K_σ)n = 0\n",
    "# Behöver inte skriva om till ett vanligt egenvärdesproblem för det finns lösare för det \n",
    "# generaliserade egenvärdesproblemet \n",
    "\n",
    "alpha, knäckningsmoder = eigh(K_red, K_sig_red) # => egenvektorer & egenvärden \n",
    "# vill man enbart ha realdelen till α kan man skriva α.real \n",
    "\n",
    "# Skriv ut lastmultiplikatorerna \n",
    "print(f\"α = {[f'{val.real:.2f}' for val in alpha]}\")\n",
    "print(f\"Kristisk last P_kr = {alpha.real[0]*P:.2f} N\")\n",
    "\n",
    "# b, svar"
   ]
  },
  {
   "cell_type": "code",
   "execution_count": 8,
   "id": "d665996d",
   "metadata": {},
   "outputs": [
    {
     "name": "stdout",
     "output_type": "stream",
     "text": [
      "\n",
      " [[ 0.59455474  0.27654721 -0.02412169]\n",
      " [ 0.42837351 -1.20235267 -1.49861409]\n",
      " [-1.27950166  1.36019526 -2.12432209]]\n"
     ]
    }
   ],
   "source": [
    "print('\\n', knäckningsmoder)\n",
    "\n",
    "# c, svar"
   ]
  },
  {
   "cell_type": "markdown",
   "id": "9f5b1706",
   "metadata": {},
   "source": [
    "## Uppgift 3"
   ]
  },
  {
   "cell_type": "code",
   "execution_count": 9,
   "id": "e935a5cc",
   "metadata": {},
   "outputs": [
    {
     "data": {
      "text/latex": [
       "$\\displaystyle Huvudspänningar = \\left\\{ -120 : 1, \\  -10 + 10 \\sqrt{201} : 1, \\  - 10 \\sqrt{201} - 10 : 1\\right\\}$"
      ],
      "text/plain": [
       "<IPython.core.display.Math object>"
      ]
     },
     "metadata": {},
     "output_type": "display_data"
    }
   ],
   "source": [
    "S = sp.Matrix([\n",
    "    [-120, 80, 0],\n",
    "    [80, 100, 40],\n",
    "    [0, 40, -120]\n",
    "              ])\n",
    "\n",
    "eigenvals = S.eigenvals()\n",
    "\n",
    "displayvar('Huvudspänningar', eigenvals)\n"
   ]
  },
  {
   "cell_type": "code",
   "execution_count": 10,
   "id": "0204e311",
   "metadata": {},
   "outputs": [
    {
     "name": "stdout",
     "output_type": "stream",
     "text": [
      "Huvudspänningar:  [-151.77446878757826, -120, 131.77446878757826]\n",
      "Högsta drag 131.77 MPa\n",
      "Högsta tryck -151.77 MPa\n"
     ]
    }
   ],
   "source": [
    "sigma1 = -10 * np.sqrt(201) -10\n",
    "sigma2 = -120\n",
    "sigma3 = -10 +10*np.sqrt(201)\n",
    "\n",
    "print('Huvudspänningar: ', [sigma1, sigma2, sigma3])\n",
    "print('Högsta drag', f'{sigma3:.2f} MPa')\n",
    "print('Högsta tryck', f'{sigma1:.2f} MPa')\n",
    "\n",
    "# a, svar"
   ]
  },
  {
   "cell_type": "code",
   "execution_count": 11,
   "id": "4ddc847d",
   "metadata": {},
   "outputs": [
    {
     "name": "stdout",
     "output_type": "stream",
     "text": [
      "Effektivspänning:  269.07248094147417 MPa\n"
     ]
    }
   ],
   "source": [
    "von_m = 1 / np.sqrt(2) * np.sqrt((sigma1 - sigma2)**2 + (sigma2 - sigma3)**2 + (sigma3 - sigma1)**2)\n",
    "\n",
    "print('Effektivspänning: ', von_m, 'MPa')\n",
    "\n",
    "# b, svar"
   ]
  },
  {
   "cell_type": "code",
   "execution_count": 12,
   "id": "41a89628",
   "metadata": {},
   "outputs": [
    {
     "name": "stdout",
     "output_type": "stream",
     "text": [
      "Normalspänning σ_n: 33.33\n",
      "Skjuvspänning τ: 133.00\n"
     ]
    }
   ],
   "source": [
    "n = sp.Matrix([1/np.sqrt(3), 1/np.sqrt(3), 1/np.sqrt(3)])\n",
    "\n",
    "s = S * n\n",
    "sigma = n.T * s  # Detta är en 1x1-matris\n",
    "sigma = sigma[0]  # Omvandla till skalär\n",
    "tao = sp.sqrt(s.norm()**2 - sigma**2)\n",
    "\n",
    "# Visa resultaten\n",
    "print(f\"Normalspänning σ_n: {sigma:.2f}\")\n",
    "print(f\"Skjuvspänning τ: {np.abs(tao):.2f}\")\n",
    "\n",
    "# c, svar"
   ]
  },
  {
   "cell_type": "markdown",
   "id": "7ceeaa3d",
   "metadata": {},
   "source": [
    "## Uppgift 4"
   ]
  },
  {
   "cell_type": "code",
   "execution_count": 13,
   "id": "0d0de871",
   "metadata": {},
   "outputs": [
    {
     "data": {
      "text/latex": [
       "$\\displaystyle \\sigma_\\phi = 300000000.0$"
      ],
      "text/plain": [
       "<IPython.core.display.Math object>"
      ]
     },
     "metadata": {},
     "output_type": "display_data"
    }
   ],
   "source": [
    "d = 150e-3      #m\n",
    "D = 300e-3      #m\n",
    "p0 = 180e6      #Pa\n",
    "E = 200e9       #Pa\n",
    "v = 0.3         #-\n",
    "\n",
    "# RV\n",
    "# sigma_r(d/2) = -p0\n",
    "# sigma_r(D/2) = 0\n",
    "\n",
    "a = np.array([[1, -1/(d/2)**2], [1, -1/(D/2)**2]])\n",
    "b = np.array([-p0, 0])\n",
    "AB = np.linalg.solve(a,b)\n",
    "A = AB[0]\n",
    "B = AB[1]\n",
    "\n",
    "def sigma_phi(r):\n",
    "    return A + B / r**2\n",
    "\n",
    "sigma_phi_max = sigma_phi(d/2)\n",
    "displayvar('\\sigma_\\phi', sigma_phi_max)\n",
    "\n",
    "# a, svar"
   ]
  },
  {
   "cell_type": "code",
   "execution_count": 14,
   "id": "e9c7bc04",
   "metadata": {},
   "outputs": [
    {
     "name": "stdout",
     "output_type": "stream",
     "text": [
      "37.5 MPa\n",
      "0.23999999999999996 mm\n"
     ]
    }
   ],
   "source": [
    "D1 = 450e-3             # m\n",
    "sigma_phi_goal = 200e6  # Pa\n",
    "\n",
    "sigma_phi_new = sigma_phi_goal - sigma_phi_max\n",
    "\n",
    "# sigma_phi(d/2) = -100e6\n",
    "# sigma_r(D/2) = 0\n",
    "a = np.array([[1, 1/(d/2)**2], [1, -1/(d/2)**2]])\n",
    "b = np.array([-100e6, 0])\n",
    "AB = np.linalg.solve(a,b)\n",
    "A = AB[0]\n",
    "B = AB[1]\n",
    "\n",
    "\n",
    "# sigma_r (D/2) = -q\n",
    "def sigma_r(r):\n",
    "    return A - B / r**2\n",
    "\n",
    "def delta(q, D, d, d0):\n",
    "    return q * 2*d**3*(D**2-d0**2) / (E * (D**2-d**2)*(d**2-d0**2))\n",
    "\n",
    "q = -sigma_r(D/2)\n",
    "\n",
    "print(q*10**-6, 'MPa')\n",
    "print(delta(q, D1, D, d)*10**3, 'mm')"
   ]
  },
  {
   "cell_type": "markdown",
   "id": "e31a7e0d",
   "metadata": {},
   "source": [
    "## Uppgift 5"
   ]
  },
  {
   "cell_type": "code",
   "execution_count": 15,
   "id": "34c9ed09",
   "metadata": {},
   "outputs": [
    {
     "name": "stdout",
     "output_type": "stream",
     "text": [
      "Simulation method gives: [mm]\n"
     ]
    },
    {
     "data": {
      "text/latex": [
       "$\\displaystyle a_c = 11.4$"
      ],
      "text/plain": [
       "<IPython.core.display.Math object>"
      ]
     },
     "metadata": {},
     "output_type": "display_data"
    },
    {
     "data": {
      "text/latex": [
       "$\\displaystyle ASTM = 8.42872008324662$"
      ],
      "text/plain": [
       "<IPython.core.display.Math object>"
      ]
     },
     "metadata": {},
     "output_type": "display_data"
    }
   ],
   "source": [
    "h = 10e-3           # m\n",
    "R2 = 14e-3          # m\n",
    "R = R2/2            # m\n",
    "a0 = 4e-3           # m\n",
    "sigma_min = 0       # Pa\n",
    "sigma_max = 150e6   # Pa\n",
    "sigma_s = 620e6     # Pa\n",
    "K_Ic = 36           # MNm-3/2\n",
    "n = 4\n",
    "C = 11.2*10**-12    # m/(MNm-3/2)**n\n",
    "\n",
    "def f3(a):\n",
    "    return np.sqrt((a + R)/a)\n",
    "def K_I(sigma0, a):\n",
    "    return sigma0 * np.sqrt(np.pi * a) * f3(a)\n",
    "\n",
    "\n",
    "# Brott fås då K_I >= K_Ic\n",
    "# Utgå från att sigma0 = sigma_max\n",
    "\n",
    "a_c = 0.0001    # Avoid division by 0\n",
    "\n",
    "while (K_I(sigma_max, a_c) < K_Ic * 10**6):\n",
    "    a_c += 0.0001\n",
    "\n",
    "a_c *= 10**3    # mm\n",
    "\n",
    "ASTM = 2.5 * (K_Ic*10**6 / sigma_s)**2 *10**3   # mm\n",
    "\n",
    "print(\"Simulation method gives: [mm]\")\n",
    "displayvar('a_c', a_c)\n",
    "displayvar('ASTM', ASTM)\n",
    "\n",
    "# a, svar"
   ]
  },
  {
   "cell_type": "code",
   "execution_count": 16,
   "id": "e2c2a647",
   "metadata": {},
   "outputs": [
    {
     "data": {
      "text/latex": [
       "$\\displaystyle N = 653.338734962896$"
      ],
      "text/plain": [
       "<IPython.core.display.Math object>"
      ]
     },
     "metadata": {},
     "output_type": "display_data"
    }
   ],
   "source": [
    "# Paris law\n",
    "# da / dN = C(∆K)**n\n",
    "\n",
    "a = sp.symbols(\"a\")\n",
    "\n",
    "f = sp.sqrt((a+R)/a)\n",
    "\n",
    "sigma_max *= 10**-6     # Why?\n",
    "ΔK = sigma_max * sp.sqrt(np.pi*a) * f\n",
    "\n",
    "I = 1 / (C * ΔK**n)\n",
    "\n",
    "a_c *= 10**-3\n",
    "N = sp.integrate(I, (a, a0, a_c))\n",
    "\n",
    "displayvar('N', N)\n",
    "\n",
    "# b, svar"
   ]
  }
 ],
 "metadata": {
  "kernelspec": {
   "display_name": "Python 3",
   "language": "python",
   "name": "python3"
  },
  "language_info": {
   "codemirror_mode": {
    "name": "ipython",
    "version": 3
   },
   "file_extension": ".py",
   "mimetype": "text/x-python",
   "name": "python",
   "nbconvert_exporter": "python",
   "pygments_lexer": "ipython3",
   "version": "3.11.9"
  }
 },
 "nbformat": 4,
 "nbformat_minor": 5
}
